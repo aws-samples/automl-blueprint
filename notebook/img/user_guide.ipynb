{
 "cells": [
  {
   "cell_type": "markdown",
   "metadata": {},
   "source": [
    "# Autopilot Blueprint and Trusted AI Guide\n",
    "\n",
    "This notebook guides you through the process of using a no-code ML pipeline (blueprint) to deliver an optimized ML model. The workflow uses:\n",
    "\n",
    " * [Amazon SageMaker DataWrangler](https://aws.amazon.com/sagemaker/data-wrangler/) for data prep. It provdies a graphical interface for creating data prep flows. \n",
    " * [Amazon SageMaker Autopilot](https://aws.amazon.com/sagemaker/autopilot/) for mode creation. It provides AutoML on tabular data through a fully managed experience.\n",
    " * [Amazon SageMaker Clarify](https://aws.amazon.com/sagemaker/clarify/) and [Inference](https://docs.aws.amazon.com/sagemaker/latest/dg/how-it-works-batch.html) capabilities are used to facilitate Trusted AI.\n",
    "\n",
    "#### Leaning Objectives\n",
    "\n",
    " * Learn how to use the AutoML blueprint.\n",
    " * Learn the facilities available to you to facilitated Trusted AI.\n",
    " * Deploy a real-time hosted model endpoint that is ready for integration into your analytics systems.\n",
    " \n",
    "#### The Data\n",
    "\n",
    "This notebook uses the [UCI Bank Marketing Dataset](https://archive.ics.uci.edu/ml/datasets/Bank+Marketing) as an example. This tabular dataset contains the results of a marketing campaign to acquire customers for term deposits. Each record represents information about a prospect. The last column is the target variable. It contains information of whether the prospect subscribed to the term deposit. <br><br>_Citation: Moro et al., 2014] S. Moro, P. Cortez and P. Rita. A Data-Driven Approach to Predict the Success of Bank Telemarketing. Decision Support Systems, Elsevier, 62:22-31, June 2014_\n",
    "\n",
    "#### Compatibility\n",
    "\n",
    "* __Amazon SageMaker DataWrangler:__ design and tested for \n",
    "  * Flow definition schema: 1.0\n",
    "  * DataWrangler Processing Container: 1.3.0\n",
    "  \n",
    "\n",
    "* __Amazon SageMaker Clarify:__ designed and tested for\n",
    "  * Bias processing container: 1.0\n",
    "  * XAI processing container: 1.0\n",
    "  \n",
    "* __Amazon SageMaker Studio:__ this notebook was designed and tested on\n",
    "  * Python3 (Data Science) Kernel\n",
    "  * Amazon SageMaker SDK version 2.x\n",
    "\n",
    "You can contact me regarding issues with the blueprint and notebook: <a href=\"mailto:dylatong@amazon.com\">Dylan Tong, AWS</a>\n",
    "\n",
    "---"
   ]
  },
  {
   "cell_type": "markdown",
   "metadata": {},
   "source": [
    "## Prerequsites\n",
    "\n",
    "Follow this [guide](https://github.com/aws-samples/automl-blueprint/blob/main/automl_blueprint_quickstart_guide.pdf) to prepare your environment: https://github.com/aws-samples/automl-blueprint/blob/main/automl_blueprint_quickstart_guide.pdf\n",
    "\n",
    "The guide provides you step-by-step instructions for satisfying the prerequsites:\n",
    "\n",
    "1. This notebook requires access to Amazon S3, StepFunctions, and SageMaker. Attach the following managed policies to your Amazon SageMaker Studio execution role:\n",
    "\n",
    "  * AmazonSageMakerFullAccess\n",
    "  * AWSStepFunctionsFullAccess\n",
    "  * AmazonS3FullAccess\n",
    "  \n",
    "  \n",
    "2. Deploy the [Autopilot Blueprint CloudFormation template]( https://dtong-public-fileshares3-us-west-2.amazonaws.com/automl-blueprint/code/cf/automl-blueprint.yml) before you continue further. You can deploy the template from the console by providing the following TemplateURL: https://dtong-public-fileshares3-us-west-2.amazonaws.com/automl-blueprint/code/cf/automl-blueprint.yml. <br> <br> Use the __default settings__ or you will be required to modify the code in this notebook.\n",
    "\n",
    " ![Deploy Blueprint Video](img/cf-deploy-bp.gif)"
   ]
  },
  {
   "cell_type": "markdown",
   "metadata": {},
   "source": [
    "3. Optionally, [clone the Github repository](https://docs.aws.amazon.com/sagemaker/latest/dg/studio-tasks-git.html) over to your Amazon SageMaker Studio instance.\n",
    "\n",
    "  ![Setup Git Video](img/sm-setup-git.gif)\n",
    "\n",
    "---\n",
    "\n",
    "  The blueprint consists of the following assets:\n",
    "\n",
    "  * __code/deploy:__ the CloudFormation template to deploy the solution.\n",
    "  * __code/workflow/implementations/autopilot:__ contains the Lambda function code executed as part of a StepFunction workflow. This workflow implemention orchestrates SageMaker DataWrangler, Autopilot, Clarify and other core SageMaker processes. \n",
    "  * __code/workflow/layers:__ contains Amazon SageMaker dependencies required by the workflow. These dependencies are deployed as a Lambda Layer.\n",
    "  * __config/blueprint-config.json:__ this file contains parameters you can configure to change the behavior of the blueprint. The blueprint looks for this configuration file in the S3 bucket that you configured as your workspace. The file should be stored under the prefix /config.\n",
    "  * __meta/uci-bank-marketing-dataset.flow:__ this is a sample flow file produced by DataWrangler. You can create and save your own flow file in your workspace under the /meta prefix. You will need to reconfigure blueprint-config.json to use your flow file.\n",
    "  * __notebook:__ this directory contains the assets for this notebook.\n",
    "\n",
    "___"
   ]
  },
  {
   "cell_type": "markdown",
   "metadata": {},
   "source": [
    "### Install Dependencies\n",
    "Run the following to install dependencies that aren't included with the Python 3 (Data Science) Kernel by default."
   ]
  },
  {
   "cell_type": "code",
   "execution_count": 1,
   "metadata": {},
   "outputs": [
    {
     "name": "stdout",
     "output_type": "stream",
     "text": [
      "Collecting package metadata (current_repodata.json): done\n",
      "Solving environment: done\n",
      "\n",
      "## Package Plan ##\n",
      "\n",
      "  environment location: /opt/conda\n",
      "\n",
      "  added / updated specs:\n",
      "    - shap\n",
      "    - tqdm\n",
      "\n",
      "\n",
      "The following packages will be downloaded:\n",
      "\n",
      "    package                    |            build\n",
      "    ---------------------------|-----------------\n",
      "    conda-4.10.0               |   py37h89c1867_1         3.1 MB  conda-forge\n",
      "    openssl-1.1.1k             |       h27cfd23_0         2.5 MB\n",
      "    shap-0.37.0                |   py37h10a2094_0         510 KB  conda-forge\n",
      "    slicer-0.0.7               |     pyhd8ed1ab_0          16 KB  conda-forge\n",
      "    tqdm-4.60.0                |     pyhd8ed1ab_0          79 KB  conda-forge\n",
      "    ------------------------------------------------------------\n",
      "                                           Total:         6.2 MB\n",
      "\n",
      "The following NEW packages will be INSTALLED:\n",
      "\n",
      "  shap               conda-forge/linux-64::shap-0.37.0-py37h10a2094_0\n",
      "  slicer             conda-forge/noarch::slicer-0.0.7-pyhd8ed1ab_0\n",
      "\n",
      "The following packages will be UPDATED:\n",
      "\n",
      "  conda                                4.9.2-py37h89c1867_0 --> 4.10.0-py37h89c1867_1\n",
      "  openssl                                 1.1.1j-h27cfd23_0 --> 1.1.1k-h27cfd23_0\n",
      "  tqdm                          pkgs/main::tqdm-4.42.1-py_0 --> conda-forge::tqdm-4.60.0-pyhd8ed1ab_0\n",
      "\n",
      "\n",
      "\n",
      "Downloading and Extracting Packages\n",
      "conda-4.10.0         | 3.1 MB    | ##################################### | 100% \n",
      "tqdm-4.60.0          | 79 KB     | ##################################### | 100% \n",
      "openssl-1.1.1k       | 2.5 MB    | ##################################### | 100% \n",
      "slicer-0.0.7         | 16 KB     | ##################################### | 100% \n",
      "shap-0.37.0          | 510 KB    | ##################################### | 100% \n",
      "Preparing transaction: done\n",
      "Verifying transaction: done\n",
      "Executing transaction: done\n"
     ]
    }
   ],
   "source": [
    "!conda install -y -c conda-forge tqdm shap"
   ]
  },
  {
   "cell_type": "markdown",
   "metadata": {},
   "source": [
    "### Initialize Notebook\n",
    "\n",
    "Run the following to assign global variables and import the required libraries."
   ]
  },
  {
   "cell_type": "code",
   "execution_count": 2,
   "metadata": {},
   "outputs": [],
   "source": [
    "import json\n",
    "import os\n",
    "from time import strftime, gmtime\n",
    "\n",
    "import numpy as np\n",
    "import pandas as pd\n",
    "\n",
    "import boto3\n",
    "\n",
    "from utils.bpconfig import BPConfig\n",
    "from utils.trust import ModelInspector\n",
    "from utils.wf import SFNMonitor,  BPRunner\n",
    "import utils.wf, utils.bpconfig, utils.prep\n",
    "\n",
    "sfn = boto3.client(\"stepfunctions\")\n",
    "sm = boto3.client(\"sagemaker\")\n",
    "s3 = boto3.client(\"s3\")\n",
    "\n",
    "account_id = boto3.client('sts').get_caller_identity().get('Account')\n",
    "region = boto3.session.Session().region_name\n",
    "workspace = f\"bp-workspace-{region}-{account_id}\"\n",
    "bpconfig = BPConfig.get_config(workspace, os.getcwd())\n",
    "local_dir = os.getcwd()\n",
    "\n",
    "bprunner = BPRunner(workspace, db_driver=s3, wf_driver=sfn)\n",
    "\n",
    "inspector_params = {\n",
    "    \"workspace\": workspace,\n",
    "    \"drivers\":{\n",
    "        \"db\": s3,\n",
    "        \"dsmlp\": sm\n",
    "    },\n",
    "    \"prefixes\": {\n",
    "        \"results_path\": \"automl-blueprint/eval/error\",\n",
    "        \"bias_path\": \"automl-blueprint/eval/bias\",\n",
    "        \"xai_path\": \"automl-blueprint/eval/xai\"\n",
    "    },\n",
    "    \"results-config\":{\n",
    "        \"gt_index\": 0,\n",
    "        \"pred_index\": 1,\n",
    "    }\n",
    "}\n",
    "\n",
    "## If you modified the Cloudformation default parameters, you will need to update wf_name accordingly.\n",
    "WF_NAME = \"bp-autopilot-blueprint\"\n",
    "WORKFLOW_STAGES = 9"
   ]
  },
  {
   "cell_type": "markdown",
   "metadata": {},
   "source": [
    "---\n",
    "\n",
    "### [Optional] View Pre-training Analysis Reports and Data Flow\n",
    "\n",
    "This notebook includes a sample flow file for prepping the UCI bank marketing dataset. It includes examples of analysis reports created with Amazon SageMaker DataWrangler for target leakage and data bias analysis.\n",
    "\n",
    "Run the following cell to download the sample flow.\n"
   ]
  },
  {
   "cell_type": "code",
   "execution_count": 3,
   "metadata": {},
   "outputs": [
    {
     "name": "stdout",
     "output_type": "stream",
     "text": [
      "The flow definition file was copied to /root/automl-blueprint/notebook/uci-bank-marketing-dataset.flow\n"
     ]
    }
   ],
   "source": [
    "fname = utils.prep.copy_sample_flow_to_local(workspace, local_dir)\n",
    "print(f\"The flow definition file was copied to {fname}\")"
   ]
  },
  {
   "cell_type": "markdown",
   "metadata": {},
   "source": [
    "---\n",
    "\n",
    "Launch the DataWrangler GUI from the flow definition file and navigate to the analysis reports as shown below.\n",
    "\n",
    "![DataWrangler Analysis Reports](img/dw-analysis-reports.gif)\n",
    "\n"
   ]
  },
  {
   "cell_type": "markdown",
   "metadata": {},
   "source": [
    "---\n",
    "The target leakage report should look like the following:\n"
   ]
  },
  {
   "cell_type": "markdown",
   "metadata": {},
   "source": [
    "![Target Leakage Report](img/target-leakage-report.png)"
   ]
  },
  {
   "cell_type": "markdown",
   "metadata": {},
   "source": [
    "---\n",
    "The data bias analysis report should look like the following:\n",
    "\n",
    "![Data Bias Report](img/data-bias-report.png)"
   ]
  },
  {
   "cell_type": "markdown",
   "metadata": {},
   "source": [
    "___\n",
    "\n",
    "### Run the AutoML Blueprint\n",
    "\n",
    "By now, the CloudFormation template should be in the COMPLETED status. The template will create a StepFunction workflow which will orchestrate the process of data preparation, model creation using AutoML and model evaluation.\n",
    "\n",
    "\n",
    "Run the following cell to find the ARN of the blueprint workflow that was created in your account."
   ]
  },
  {
   "cell_type": "code",
   "execution_count": 4,
   "metadata": {},
   "outputs": [
    {
     "name": "stdout",
     "output_type": "stream",
     "text": [
      "Found the resource id of your workflow: arn:aws:states:eu-west-1:803235869972:stateMachine:bp-autopilot-blueprint\n"
     ]
    }
   ],
   "source": [
    "wf_arn = bprunner.find_sfn_arn(WF_NAME)\n",
    "print(f\"Found the resource id of your workflow: {wf_arn}\")"
   ]
  },
  {
   "cell_type": "markdown",
   "metadata": {},
   "source": [
    "---\n",
    "This blueprint is designed to provide a serverless and no-code experience. As you a user, you provide:\n",
    "\n",
    "1. Raw data\n",
    "2. An Amazon SageMaker DataWrangler flow created through the GUI\n",
    "3. Blueprint configurations\n",
    "\n",
    "Run the cell below to view the default configurations. You don't need to change any of the settings for this tutorial."
   ]
  },
  {
   "cell_type": "code",
   "execution_count": 5,
   "metadata": {},
   "outputs": [
    {
     "name": "stdout",
     "output_type": "stream",
     "text": [
      "\n",
      " The blueprint configurations were downloaded to /root/automl-blueprint/notebook/blueprint-config.json \n",
      "\n",
      "{\n",
      "    \"automl-config\": {\n",
      "        \"engine\": \"sagemaker-autopilot\",\n",
      "        \"job_base_name\": \"automl-bp\",\n",
      "        \"max_candidates\": \"1\",\n",
      "        \"metric_name\": \"AUC\",\n",
      "        \"minimum_performance\": 0.9,\n",
      "        \"problem_type\": \"BinaryClassification\",\n",
      "        \"target_name\": \"target\"\n",
      "    },\n",
      "    \"bias-analysis-config\": {\n",
      "        \"bias-config\": {\n",
      "            \"facet_name\": \"age\",\n",
      "            \"facet_values_or_threshold\": [\n",
      "                30\n",
      "            ],\n",
      "            \"group_name\": \"job\",\n",
      "            \"label_values_or_threshold\": [\n",
      "                1\n",
      "            ]\n",
      "        },\n",
      "        \"engine\": \"sagemaker-clarify\",\n",
      "        \"instance_count\": 1,\n",
      "        \"instance_type\": \"ml.c5.xlarge\",\n",
      "        \"job_base_name\": \"bp-clarify-bias\",\n",
      "        \"output_prefix\": \"eval/bias\",\n",
      "        \"prediction-config\": {\n",
      "            \"label\": null,\n",
      "            \"label_headers\": null,\n",
      "            \"probability\": 0,\n",
      "            \"probability_threshold\": 0.8\n",
      "        }\n",
      "    },\n",
      "    \"data-config\": {\n",
      "        \"prepped_out_prefix\": \"automl-blueprint/data/prepped\",\n",
      "        \"raw_in_prefix\": \"automl-blueprint/sample-data/bank-marketing\"\n",
      "    },\n",
      "    \"dataprep-config\": {\n",
      "        \"data_version\": 1,\n",
      "        \"definition_file\": \"uci-bank-marketing-dataset.flow\",\n",
      "        \"engine\": \"sagemaker-datawrangler\",\n",
      "        \"instance_count\": 1,\n",
      "        \"instance_type\": \"ml.m5.4xlarge\",\n",
      "        \"output_node_id\": \"82971d23-e4f7-49cd-b4a9-f065d36e01ce.default\"\n",
      "    },\n",
      "    \"deployment-config\": {\n",
      "        \"engine\": \"sagemaker-hosting\"\n",
      "    },\n",
      "    \"error-analysis-config\": {\n",
      "        \"engine\": \"sagemaker-batch-transform\",\n",
      "        \"job_base_name\": \"bp-error-analysis\",\n",
      "        \"output_prefix\": \"eval/error\",\n",
      "        \"test_data_uri\": null,\n",
      "        \"transform-config\": {\n",
      "            \"assemble_with\": \"Line\",\n",
      "            \"input_filter\": \"$[:-2]\",\n",
      "            \"instance_count\": 1,\n",
      "            \"instance_type\": \"ml.m5.xlarge\",\n",
      "            \"join_source\": \"Input\",\n",
      "            \"output_filter\": \"$[-2,-1]\",\n",
      "            \"split_type\": \"Line\",\n",
      "            \"strategy\": \"SingleRecord\"\n",
      "        }\n",
      "    },\n",
      "    \"model-config\": {\n",
      "        \"engine\": \"sagemaker\",\n",
      "        \"inference_response_keys\": [\n",
      "            \"probability\"\n",
      "        ],\n",
      "        \"instance_count\": 1,\n",
      "        \"instance_type\": \"ml.m5.xlarge\",\n",
      "        \"model_base_name\": \"automl-bp-model\"\n",
      "    },\n",
      "    \"pipeline-config\": {\n",
      "        \"engine\": \"aws-stepfunctions\"\n",
      "    },\n",
      "    \"security-config\": {},\n",
      "    \"workspace-config\": {\n",
      "        \"s3_prefix\": \"automl-blueprint\"\n",
      "    },\n",
      "    \"xai-config\": {\n",
      "        \"engine\": \"sagemaker-clarify\",\n",
      "        \"instance_count\": 1,\n",
      "        \"instance_type\": \"ml.c5.xlarge\",\n",
      "        \"job_base_name\": \"bp-clarify-shap\",\n",
      "        \"output_prefix\": \"eval/xai\",\n",
      "        \"shap-config\": {\n",
      "            \"agg_method\": \"mean_abs\",\n",
      "            \"num_samples\": 1\n",
      "        }\n",
      "    }\n",
      "}\n"
     ]
    }
   ],
   "source": [
    "config = BPConfig.get_config(workspace, local_dir)\n",
    "print(f\"\\n The blueprint configurations were downloaded to {local_dir}/blueprint-config.json \\n\")\n",
    "config.print()"
   ]
  },
  {
   "cell_type": "markdown",
   "metadata": {},
   "source": [
    "___\n",
    "Run the following cell to execute the blueprint workflow."
   ]
  },
  {
   "cell_type": "code",
   "execution_count": 6,
   "metadata": {},
   "outputs": [],
   "source": [
    "execution_arn = bprunner.run_blueprint(WF_NAME, WORKFLOW_STAGES, wait=False)"
   ]
  },
  {
   "cell_type": "markdown",
   "metadata": {},
   "source": [
    "---\n",
    "\n",
    "You have the option to monitor the workflow progress from the StepFunctions console, or from this notebook. Run the next cell to obtain the link to the StepFunction workflow console.\n"
   ]
  },
  {
   "cell_type": "code",
   "execution_count": 7,
   "metadata": {},
   "outputs": [
    {
     "data": {
      "text/markdown": [
       "<img src='img/sfn-bp-workflow.png' width=50%, align='right'/> </br>    You can monitor the progress of your workflow from the StepFunctions console: </br> </br>   https://eu-west-1.console.aws.amazon.com/states/home?region=eu-west-1#/executions/details/arn:aws:states:eu-west-1:803235869972:execution:bp-autopilot-blueprint:0700a293-b709-4545-9e0d-8590292bae21</br></br>    Alternatively, you can run the cell below to monitor the progress from your notebook."
      ],
      "text/plain": [
       "<IPython.core.display.Markdown object>"
      ]
     },
     "execution_count": 7,
     "metadata": {},
     "output_type": "execute_result"
    }
   ],
   "source": [
    "from IPython.display import Markdown as md\n",
    "\n",
    "sfn_console = f\"https://{region}.console.aws.amazon.com/states/home?region={region}#/executions/details/{execution_arn}\"\n",
    "\n",
    "md(f\"<img src='img/sfn-bp-workflow.png' width=50%, align='right'/> </br> \\\n",
    "   You can monitor the progress of your workflow from the StepFunctions console: </br> </br>\\\n",
    "   {sfn_console}</br></br> \\\n",
    "   Alternatively, you can run the cell below to monitor the progress from your notebook.\")"
   ]
  },
  {
   "cell_type": "markdown",
   "metadata": {},
   "source": [
    "---\n",
    "\n",
    "Run the following cell if you like to render a progress bar to monitor the progress of the workflow.\n"
   ]
  },
  {
   "cell_type": "code",
   "execution_count": 11,
   "metadata": {},
   "outputs": [
    {
     "data": {
      "application/vnd.jupyter.widget-view+json": {
       "model_id": "445f0f1ea6304051a4adc4dc6844b49a",
       "version_major": 2,
       "version_minor": 0
      },
      "text/plain": [
       "Workflow Initiated:   0%|          | 0/10 [00:00<?, ?it/s]"
      ]
     },
     "metadata": {},
     "output_type": "display_data"
    },
    {
     "data": {
      "application/vnd.jupyter.widget-view+json": {
       "model_id": "729c78dd42504a21b7e41ba7c8426dcb",
       "version_major": 2,
       "version_minor": 0
      },
      "text/plain": [
       ">> Parallel Stage: Error Analysis:   0%|          | 0/1 [00:00<?, ?it/s]"
      ]
     },
     "metadata": {},
     "output_type": "display_data"
    },
    {
     "data": {
      "application/vnd.jupyter.widget-view+json": {
       "model_id": "2498f6e67220452ebc3b379fff89f856",
       "version_major": 2,
       "version_minor": 0
      },
      "text/plain": [
       ">> Parallel Stage: Bias Analysis:   0%|          | 0/1 [00:00<?, ?it/s]"
      ]
     },
     "metadata": {},
     "output_type": "display_data"
    },
    {
     "data": {
      "application/vnd.jupyter.widget-view+json": {
       "model_id": "e7f37dd2d0394f0aaaa739f136ba24d0",
       "version_major": 2,
       "version_minor": 0
      },
      "text/plain": [
       ">> Parallel Stage: XAI Analysis:   0%|          | 0/1 [00:00<?, ?it/s]"
      ]
     },
     "metadata": {},
     "output_type": "display_data"
    }
   ],
   "source": [
    "SFNMonitor().run(execution_arn, WORKFLOW_STAGES)"
   ]
  },
  {
   "cell_type": "markdown",
   "metadata": {},
   "source": [
    "___\n",
    "\n",
    "### [Optional] Understand the AutoML Process\n",
    "\n",
    "This notebook runs the blueprint with Amazon SageMaker Autopilot as the AutoML engine. Autopilot provides transparency into the AutoML process, so you can optionally inspect the automated data profiling and pipeline generation code that gets executed by Autopilot's distributed processing.\n",
    "\n",
    "The blueprint configurations are set to have Autopilot explore one candidate to minimize the time and cost of this tutorial. However, this isn't practical. In practice, you want Autopilot to explore many candidates resulting in Autopilot to experiment with multiple algorithms and feature processing steps to discover the pipeline that produces the highest performing model on your dataset.\n",
    "\n",
    "The following steps serve as examples, but won't provide interesting insights. If you like to aim for a production quality type model, you can change the _max_candidates_ configuration to the default value of 250. \n",
    "\n",
    "___\n",
    "\n",
    "Optionally, uncomment and run the following code. This will modify the blueprint configuration file and re-run the blueprint workflow. This will result in a higher quality model and the remainder of the notebook will provide more practical model insights. Regardless, you can proceed through the remainder of the notebook and learn the process and available functionality."
   ]
  },
  {
   "cell_type": "code",
   "execution_count": null,
   "metadata": {},
   "outputs": [
    {
     "data": {
      "application/vnd.jupyter.widget-view+json": {
       "model_id": "9d93d6c12931422fbfdce5858f0d1e1c",
       "version_major": 2,
       "version_minor": 0
      },
      "text/plain": [
       "Workflow Initiated:   0%|          | 0/10 [00:00<?, ?it/s]"
      ]
     },
     "metadata": {},
     "output_type": "display_data"
    }
   ],
   "source": [
    "#Note that you can modify the json configuration file directly, or you could build a GUI for the configuration file.\n",
    "\n",
    "#MAX_CANDIDATES = 250\n",
    "#MINIMUM_PERFORMANCE = 0.93\n",
    "\n",
    "#automl_config = {\n",
    "#  \"job_base_name\": \"automl-bp\",\n",
    "#  \"max_candidates\": MAX_CANDIDATES,\n",
    "#  \"target_name\": \"target\",\n",
    "#  \"problem_type\": \"BinaryClassification\",\n",
    "#  \"metric_name\": \"AUC\",\n",
    "#  \"minimum_performance\": MINIMUM_PERFORMANCE\n",
    "#}\n",
    "\n",
    "#config.update_automl_config(automl_config)\n",
    "#execution_arn = bprunner.run_blueprint(WF_NAME, WORKFLOW_STAGES, wait=True)\n",
    "\n",
    "#print(f\"StepFunction workflow has completed. The execution Id is: {execution_arn}.\")"
   ]
  },
  {
   "cell_type": "markdown",
   "metadata": {},
   "source": [
    "---\n",
    "#### Clear Box AutoML Insights\n",
    "\n",
    "You can inspect the data profiling and candidate pipeline generation steps from notebooks that were generated as part of your Amazon SageMaker Autopilot job. The following animation shows how you can navigate to these notebooks. \n",
    "\n",
    "The candidate generation notebook will only be insightful if you run the blueprint with a sufficiently large max_candidate setting like what is configured in the cell above.\n",
    "\n",
    "![Autopilot Notebooks](img/autopilot-notebooks.gif)"
   ]
  },
  {
   "cell_type": "markdown",
   "metadata": {},
   "source": [
    "---\n",
    "\n",
    "#### Algorithm Performance Analysis\n",
    "\n",
    "Autopilot generates a leaderboard of results and ranks the training runs (trials) by the objective metric that was configured. In our example, the configuration was AUC.\n",
    "\n",
    "![Autopilot Leaderboard](img/autopilot-leaderboard.png)\n",
    "\n",
    "---\n",
    "\n",
    "Currently, Autopilot doesn't present the performance of competiting algorithms. Some data scientists might desire this information to serve as a performance baseline that the winning model can be evaluated against. \n",
    "\n",
    "This information can be obtained, but it requires some manual inspection. The process is as follows. First, open your [Candidate Generation](https://docs.aws.amazon.com/sagemaker/latest/dg/autopilot-automate-model-development-notebook-output.html#candidate-generation-notebook) notebook as demonstrated previously. Inspect, the candidate pipelines as follows and take note of the prefix, which identifies the pipelines:\n",
    "\n",
    "---\n",
    "Here's an example of a pipeline that leverages the XGBoost algorithm:\n",
    "\n",
    "![XGBoost Pipeline](img/xgboost-candidate-pipeline.png)\n",
    "\n",
    "---\n",
    "Here's an example of a pipeline that leverages the Linear Learning algorithm (linear and logistic regression):\n",
    "\n",
    "![Linear Learner Pipeline](img/ll-candidate-pipeline.png)\n",
    "\n",
    "---\n",
    "Here's an example of a pipeline that leverages the Multilayer Perceptron (MLP) algorithm (Neural Networks):\n",
    "\n",
    "![MLP Pipeline](img/mlp-candidate-pipeline.png)"
   ]
  },
  {
   "cell_type": "markdown",
   "metadata": {},
   "source": [
    "---\n",
    "This notebook provides you with utility functions to obtain baselines. The metrics returned are the best results for each candidate pipeline. Autopilot runs many training jobs for each candidate pipeline for hyperparameter optimization."
   ]
  },
  {
   "cell_type": "code",
   "execution_count": 12,
   "metadata": {},
   "outputs": [
    {
     "name": "stdout",
     "output_type": "stream",
     "text": [
      "Baselines for AutoML Job: automl-bp-2021-04-13-23-10-22:\n",
      "\n",
      "{\n",
      "   \"dpp0\": {\n",
      "      \"value\": 0.9544699788093567,\n",
      "      \"metric\": \"validation:auc\"\n",
      "   },\n",
      "   \"dpp2\": {\n",
      "      \"value\": 0.9394024014472961,\n",
      "      \"metric\": \"validation:roc_auc_score\"\n",
      "   },\n",
      "   \"dpp9\": {\n",
      "      \"value\": 0.9437330365180969,\n",
      "      \"metric\": \"validation:roc_auc\"\n",
      "   }\n",
      "}\n"
     ]
    }
   ],
   "source": [
    "inspector = ModelInspector.get_inspector(inspector_params)\n",
    "\n",
    "# You will need to replace the list of candidate prefixes with ones specific to your \n",
    "# Autopilot job as demonstrated above.\n",
    "candidate_ids = [\"dpp0\", \"dpp2\", \"dpp9\"]\n",
    "\n",
    "maximize_objective = True\n",
    "job_name = bprunner.get_automl_job_name(execution_arn)\n",
    "baselines = inspector.get_automl_job_baseline(job_name, candidate_ids, maximize_objective)\n",
    "print(f\"Baselines for AutoML Job: {job_name}:\\n\\n{json.dumps(baselines, indent=3)}\")"
   ]
  },
  {
   "cell_type": "markdown",
   "metadata": {},
   "source": [
    "---\n",
    "Alternatively, you can use the AWS CLI. Set the appropriate candidate prefix. Next, run this cell to obtain the best results for the specified candidate pipeline and the associated AWS CLI command used for this query."
   ]
  },
  {
   "cell_type": "code",
   "execution_count": 13,
   "metadata": {},
   "outputs": [
    {
     "name": "stdout",
     "output_type": "stream",
     "text": [
      "AWS CLI Command:\n",
      "\n",
      "aws sagemaker list-candidates-for-auto-ml-job --auto-ml-job-name automl-bp-2021-04-13-23-10-22 --query \"max_by(Candidates[].{step_name:CandidateSteps[?CandidateStepType == 'AWS::SageMaker::TrainingJob'].CandidateStepName[?contains(@,'dpp7')==\\`true\\`],obj_value:FinalAutoMLJobObjectiveMetric.Value}[?not_null(step_name)], &obj_value)\"\n",
      "\n",
      "Results for automl job: automl-bp-2021-04-13-23-10-22\n",
      "\n",
      "{\n",
      "   \"step_name\": [\n",
      "      \"automl-bp--dpp7-1-784f089270d9452a9a4c257578c31169ac79253c178e4\"\n",
      "   ],\n",
      "   \"obj_value\": 0.9471700191497803\n",
      "}\n"
     ]
    }
   ],
   "source": [
    "import subprocess\n",
    "# You will need to set this candidate prefix to one specific to your Autopilot job as demonstrated previously.\n",
    "candidate_id = 'dpp7'\n",
    "\n",
    "cmd, results = inspector.get_aws_cli_query_for_baselines(job_name, candidate_id)\n",
    "\n",
    "print(f\"AWS CLI Command:\\n\\n{cmd}\\n\")\n",
    "print(f\"Results for automl job: {job_name}\\n\")\n",
    "print(json.dumps(results, indent=3))"
   ]
  },
  {
   "cell_type": "markdown",
   "metadata": {},
   "source": [
    "---\n",
    "\n",
    "### Evaluate your Model\n",
    "\n",
    "At this point, your workflow should have completed successfully. We can now inspect our model further.\n",
    "\n",
    "Run the following cell to configure our Model Inspector."
   ]
  },
  {
   "cell_type": "code",
   "execution_count": 14,
   "metadata": {},
   "outputs": [],
   "source": [
    "inspector_params = {\n",
    "    \"workspace\": workspace,\n",
    "    \"drivers\":{\n",
    "        \"db\": s3,\n",
    "        \"dsmlp\": sm\n",
    "    },\n",
    "    \"prefixes\": {\n",
    "        \"results_path\": \"automl-blueprint/eval/error\",\n",
    "        \"bias_path\": \"automl-blueprint/eval/bias\",\n",
    "        \"xai_path\": \"automl-blueprint/eval/xai\"\n",
    "    },\n",
    "    \"results-config\":{\n",
    "        \"gt_index\": 0,\n",
    "        \"pred_index\": 1,\n",
    "    }\n",
    "}\n",
    "\n",
    "inspector = ModelInspector.get_inspector(inspector_params)"
   ]
  },
  {
   "cell_type": "markdown",
   "metadata": {},
   "source": [
    "---\n",
    "\n",
    "The ModelInspector provides utility functions to create visualizations from the outputs produce by the blueprint workflow. As part of the validation stage, the blueprint batches predictions. In practice, you should set the blueprint configuration to the location of your hold-out test dataset. The blueprint will use this data to generate predictions.<br><br>\n",
    "\n",
    "\"error-analysis-config\":{<br>\n",
    "&emsp;&emsp;...<br>\n",
    "&emsp;&emsp;\"test_data_uri\": _\"the s3 uri for your test dataset\"_<br>\n",
    "&emsp;&emsp;...<br>\n",
    "}\n",
    "<br><br>\n",
    "For convenience, _test_data_uri_ is set to null in this tutorial. The blueprint will by default use the data used by the automl job. Do not do this in practice.\n",
    "___\n",
    "\n",
    "Run the following command to visualize the ROC curve of the best model produced by your blueprint. This gives you a sense of the trade-off between true positive and false positive rates as well as an idea of the overall performance."
   ]
  },
  {
   "cell_type": "code",
   "execution_count": 15,
   "metadata": {},
   "outputs": [
    {
     "data": {
      "image/png": "[encoded data removed]",
      "text/plain": [
       "<Figure size 432x288 with 1 Axes>"
      ]
     },
     "metadata": {
      "needs_background": "light"
     },
     "output_type": "display_data"
    }
   ],
   "source": [
    "_, _, fpr, tpr, thresholds = inspector.get_roc_curve()"
   ]
  },
  {
   "cell_type": "markdown",
   "metadata": {},
   "source": [
    "---\n",
    "Run the following command to visualize the AUC curve to determine an appropriate threshold to you use for your model.\n"
   ]
  },
  {
   "cell_type": "code",
   "execution_count": 16,
   "metadata": {},
   "outputs": [
    {
     "data": {
      "image/png": "[encoded data removed]",
      "text/plain": [
       "<Figure size 1440x216 with 1 Axes>"
      ]
     },
     "metadata": {
      "needs_background": "light"
     },
     "output_type": "display_data"
    }
   ],
   "source": [
    "inspector.visualize_auc(fpr,tpr,thresholds)"
   ]
  },
  {
   "cell_type": "markdown",
   "metadata": {},
   "source": [
    "---\n",
    "You can also plot a heatmap of the confusion matrix and use the threshold slider to get a sense for the trade-offs at various thresholds."
   ]
  },
  {
   "cell_type": "code",
   "execution_count": 17,
   "metadata": {},
   "outputs": [
    {
     "data": {
      "application/vnd.jupyter.widget-view+json": {
       "model_id": "70ad54ff76b14bc1b67935dbff30f01f",
       "version_major": 2,
       "version_minor": 0
      },
      "text/plain": [
       "interactive(children=(FloatSlider(value=0.5, description='Threshold', max=1.0, step=0.05), Output()), _dom_cla…"
      ]
     },
     "metadata": {},
     "output_type": "display_data"
    }
   ],
   "source": [
    "%matplotlib inline\n",
    "\n",
    "inspector.display_interactive_cm()"
   ]
  },
  {
   "cell_type": "markdown",
   "metadata": {},
   "source": [
    "----\n",
    "#### Global Feature Importance\n",
    "\n",
    "The blueprint will run an Amazon Clarify job to obtain Shapley values. You can view the global feature importance of your models by navigating to the \"Model Explainability\" reports as shown below.\n",
    "\n",
    "\n",
    "![Global Shap Report](img/global-shap-report.gif)"
   ]
  },
  {
   "cell_type": "markdown",
   "metadata": {},
   "source": [
    "---\n",
    "The Amazon SageMaker Clarify process produces Shap values for each of records used in your automl job. This notebook provides you with utilities to visualize feature impact of single predictions.\n",
    "\n",
    "The following utility function will load a sample of your prep dataset for a specific blueprint run. Run the cell to preview your data."
   ]
  },
  {
   "cell_type": "code",
   "execution_count": 9,
   "metadata": {},
   "outputs": [
    {
     "data": {
      "text/html": [
       "<div>\n",
       "<style scoped>\n",
       "    .dataframe tbody tr th:only-of-type {\n",
       "        vertical-align: middle;\n",
       "    }\n",
       "\n",
       "    .dataframe tbody tr th {\n",
       "        vertical-align: top;\n",
       "    }\n",
       "\n",
       "    .dataframe thead th {\n",
       "        text-align: right;\n",
       "    }\n",
       "</style>\n",
       "<table border=\"1\" class=\"dataframe\">\n",
       "  <thead>\n",
       "    <tr style=\"text-align: right;\">\n",
       "      <th></th>\n",
       "      <th>age</th>\n",
       "      <th>job</th>\n",
       "      <th>marital</th>\n",
       "      <th>education</th>\n",
       "      <th>default</th>\n",
       "      <th>housing</th>\n",
       "      <th>loan</th>\n",
       "      <th>contact</th>\n",
       "      <th>month</th>\n",
       "      <th>day_of_week</th>\n",
       "      <th>...</th>\n",
       "      <th>campaign</th>\n",
       "      <th>pdays</th>\n",
       "      <th>previous</th>\n",
       "      <th>poutcome</th>\n",
       "      <th>emp.var.rate</th>\n",
       "      <th>cons.price.idx</th>\n",
       "      <th>cons.conf.idx</th>\n",
       "      <th>euribor3m</th>\n",
       "      <th>nr.employed</th>\n",
       "      <th>target</th>\n",
       "    </tr>\n",
       "  </thead>\n",
       "  <tbody>\n",
       "    <tr>\n",
       "      <th>0</th>\n",
       "      <td>56</td>\n",
       "      <td>housemaid</td>\n",
       "      <td>married</td>\n",
       "      <td>basic.4y</td>\n",
       "      <td>no</td>\n",
       "      <td>no</td>\n",
       "      <td>no</td>\n",
       "      <td>telephone</td>\n",
       "      <td>may</td>\n",
       "      <td>mon</td>\n",
       "      <td>...</td>\n",
       "      <td>1</td>\n",
       "      <td>999</td>\n",
       "      <td>0</td>\n",
       "      <td>nonexistent</td>\n",
       "      <td>1.1</td>\n",
       "      <td>93.994</td>\n",
       "      <td>-36.4</td>\n",
       "      <td>4.857</td>\n",
       "      <td>5191.0</td>\n",
       "      <td>0.0</td>\n",
       "    </tr>\n",
       "    <tr>\n",
       "      <th>1</th>\n",
       "      <td>57</td>\n",
       "      <td>services</td>\n",
       "      <td>married</td>\n",
       "      <td>high.school</td>\n",
       "      <td>NaN</td>\n",
       "      <td>no</td>\n",
       "      <td>no</td>\n",
       "      <td>telephone</td>\n",
       "      <td>may</td>\n",
       "      <td>mon</td>\n",
       "      <td>...</td>\n",
       "      <td>1</td>\n",
       "      <td>999</td>\n",
       "      <td>0</td>\n",
       "      <td>nonexistent</td>\n",
       "      <td>1.1</td>\n",
       "      <td>93.994</td>\n",
       "      <td>-36.4</td>\n",
       "      <td>4.857</td>\n",
       "      <td>5191.0</td>\n",
       "      <td>0.0</td>\n",
       "    </tr>\n",
       "    <tr>\n",
       "      <th>2</th>\n",
       "      <td>37</td>\n",
       "      <td>services</td>\n",
       "      <td>married</td>\n",
       "      <td>high.school</td>\n",
       "      <td>no</td>\n",
       "      <td>yes</td>\n",
       "      <td>no</td>\n",
       "      <td>telephone</td>\n",
       "      <td>may</td>\n",
       "      <td>mon</td>\n",
       "      <td>...</td>\n",
       "      <td>1</td>\n",
       "      <td>999</td>\n",
       "      <td>0</td>\n",
       "      <td>nonexistent</td>\n",
       "      <td>1.1</td>\n",
       "      <td>93.994</td>\n",
       "      <td>-36.4</td>\n",
       "      <td>4.857</td>\n",
       "      <td>5191.0</td>\n",
       "      <td>0.0</td>\n",
       "    </tr>\n",
       "    <tr>\n",
       "      <th>3</th>\n",
       "      <td>40</td>\n",
       "      <td>admin.</td>\n",
       "      <td>married</td>\n",
       "      <td>basic.6y</td>\n",
       "      <td>no</td>\n",
       "      <td>no</td>\n",
       "      <td>no</td>\n",
       "      <td>telephone</td>\n",
       "      <td>may</td>\n",
       "      <td>mon</td>\n",
       "      <td>...</td>\n",
       "      <td>1</td>\n",
       "      <td>999</td>\n",
       "      <td>0</td>\n",
       "      <td>nonexistent</td>\n",
       "      <td>1.1</td>\n",
       "      <td>93.994</td>\n",
       "      <td>-36.4</td>\n",
       "      <td>4.857</td>\n",
       "      <td>5191.0</td>\n",
       "      <td>0.0</td>\n",
       "    </tr>\n",
       "    <tr>\n",
       "      <th>4</th>\n",
       "      <td>56</td>\n",
       "      <td>services</td>\n",
       "      <td>married</td>\n",
       "      <td>high.school</td>\n",
       "      <td>no</td>\n",
       "      <td>no</td>\n",
       "      <td>yes</td>\n",
       "      <td>telephone</td>\n",
       "      <td>may</td>\n",
       "      <td>mon</td>\n",
       "      <td>...</td>\n",
       "      <td>1</td>\n",
       "      <td>999</td>\n",
       "      <td>0</td>\n",
       "      <td>nonexistent</td>\n",
       "      <td>1.1</td>\n",
       "      <td>93.994</td>\n",
       "      <td>-36.4</td>\n",
       "      <td>4.857</td>\n",
       "      <td>5191.0</td>\n",
       "      <td>0.0</td>\n",
       "    </tr>\n",
       "    <tr>\n",
       "      <th>...</th>\n",
       "      <td>...</td>\n",
       "      <td>...</td>\n",
       "      <td>...</td>\n",
       "      <td>...</td>\n",
       "      <td>...</td>\n",
       "      <td>...</td>\n",
       "      <td>...</td>\n",
       "      <td>...</td>\n",
       "      <td>...</td>\n",
       "      <td>...</td>\n",
       "      <td>...</td>\n",
       "      <td>...</td>\n",
       "      <td>...</td>\n",
       "      <td>...</td>\n",
       "      <td>...</td>\n",
       "      <td>...</td>\n",
       "      <td>...</td>\n",
       "      <td>...</td>\n",
       "      <td>...</td>\n",
       "      <td>...</td>\n",
       "      <td>...</td>\n",
       "    </tr>\n",
       "    <tr>\n",
       "      <th>7586</th>\n",
       "      <td>73</td>\n",
       "      <td>retired</td>\n",
       "      <td>married</td>\n",
       "      <td>professional.course</td>\n",
       "      <td>no</td>\n",
       "      <td>yes</td>\n",
       "      <td>no</td>\n",
       "      <td>cellular</td>\n",
       "      <td>nov</td>\n",
       "      <td>fri</td>\n",
       "      <td>...</td>\n",
       "      <td>1</td>\n",
       "      <td>999</td>\n",
       "      <td>0</td>\n",
       "      <td>nonexistent</td>\n",
       "      <td>-1.1</td>\n",
       "      <td>94.767</td>\n",
       "      <td>-50.8</td>\n",
       "      <td>1.028</td>\n",
       "      <td>4963.6</td>\n",
       "      <td>1.0</td>\n",
       "    </tr>\n",
       "    <tr>\n",
       "      <th>7587</th>\n",
       "      <td>46</td>\n",
       "      <td>blue-collar</td>\n",
       "      <td>married</td>\n",
       "      <td>professional.course</td>\n",
       "      <td>no</td>\n",
       "      <td>no</td>\n",
       "      <td>no</td>\n",
       "      <td>cellular</td>\n",
       "      <td>nov</td>\n",
       "      <td>fri</td>\n",
       "      <td>...</td>\n",
       "      <td>1</td>\n",
       "      <td>999</td>\n",
       "      <td>0</td>\n",
       "      <td>nonexistent</td>\n",
       "      <td>-1.1</td>\n",
       "      <td>94.767</td>\n",
       "      <td>-50.8</td>\n",
       "      <td>1.028</td>\n",
       "      <td>4963.6</td>\n",
       "      <td>0.0</td>\n",
       "    </tr>\n",
       "    <tr>\n",
       "      <th>7588</th>\n",
       "      <td>56</td>\n",
       "      <td>retired</td>\n",
       "      <td>married</td>\n",
       "      <td>university.degree</td>\n",
       "      <td>no</td>\n",
       "      <td>yes</td>\n",
       "      <td>no</td>\n",
       "      <td>cellular</td>\n",
       "      <td>nov</td>\n",
       "      <td>fri</td>\n",
       "      <td>...</td>\n",
       "      <td>2</td>\n",
       "      <td>999</td>\n",
       "      <td>0</td>\n",
       "      <td>nonexistent</td>\n",
       "      <td>-1.1</td>\n",
       "      <td>94.767</td>\n",
       "      <td>-50.8</td>\n",
       "      <td>1.028</td>\n",
       "      <td>4963.6</td>\n",
       "      <td>0.0</td>\n",
       "    </tr>\n",
       "    <tr>\n",
       "      <th>7589</th>\n",
       "      <td>44</td>\n",
       "      <td>technician</td>\n",
       "      <td>married</td>\n",
       "      <td>professional.course</td>\n",
       "      <td>no</td>\n",
       "      <td>no</td>\n",
       "      <td>no</td>\n",
       "      <td>cellular</td>\n",
       "      <td>nov</td>\n",
       "      <td>fri</td>\n",
       "      <td>...</td>\n",
       "      <td>1</td>\n",
       "      <td>999</td>\n",
       "      <td>0</td>\n",
       "      <td>nonexistent</td>\n",
       "      <td>-1.1</td>\n",
       "      <td>94.767</td>\n",
       "      <td>-50.8</td>\n",
       "      <td>1.028</td>\n",
       "      <td>4963.6</td>\n",
       "      <td>1.0</td>\n",
       "    </tr>\n",
       "    <tr>\n",
       "      <th>7590</th>\n",
       "      <td>74</td>\n",
       "      <td>retired</td>\n",
       "      <td>married</td>\n",
       "      <td>professional.course</td>\n",
       "      <td>no</td>\n",
       "      <td>yes</td>\n",
       "      <td>no</td>\n",
       "      <td>cellular</td>\n",
       "      <td>nov</td>\n",
       "      <td>fri</td>\n",
       "      <td>...</td>\n",
       "      <td>3</td>\n",
       "      <td>999</td>\n",
       "      <td>1</td>\n",
       "      <td>failure</td>\n",
       "      <td>-1.1</td>\n",
       "      <td>94.767</td>\n",
       "      <td>-50.8</td>\n",
       "      <td>1.028</td>\n",
       "      <td>4963.6</td>\n",
       "      <td>0.0</td>\n",
       "    </tr>\n",
       "  </tbody>\n",
       "</table>\n",
       "<p>41188 rows × 21 columns</p>\n",
       "</div>"
      ],
      "text/plain": [
       "      age          job  marital            education default housing loan  \\\n",
       "0      56    housemaid  married             basic.4y      no      no   no   \n",
       "1      57     services  married          high.school     NaN      no   no   \n",
       "2      37     services  married          high.school      no     yes   no   \n",
       "3      40       admin.  married             basic.6y      no      no   no   \n",
       "4      56     services  married          high.school      no      no  yes   \n",
       "...   ...          ...      ...                  ...     ...     ...  ...   \n",
       "7586   73      retired  married  professional.course      no     yes   no   \n",
       "7587   46  blue-collar  married  professional.course      no      no   no   \n",
       "7588   56      retired  married    university.degree      no     yes   no   \n",
       "7589   44   technician  married  professional.course      no      no   no   \n",
       "7590   74      retired  married  professional.course      no     yes   no   \n",
       "\n",
       "        contact month day_of_week  ...  campaign  pdays  previous  \\\n",
       "0     telephone   may         mon  ...         1    999         0   \n",
       "1     telephone   may         mon  ...         1    999         0   \n",
       "2     telephone   may         mon  ...         1    999         0   \n",
       "3     telephone   may         mon  ...         1    999         0   \n",
       "4     telephone   may         mon  ...         1    999         0   \n",
       "...         ...   ...         ...  ...       ...    ...       ...   \n",
       "7586   cellular   nov         fri  ...         1    999         0   \n",
       "7587   cellular   nov         fri  ...         1    999         0   \n",
       "7588   cellular   nov         fri  ...         2    999         0   \n",
       "7589   cellular   nov         fri  ...         1    999         0   \n",
       "7590   cellular   nov         fri  ...         3    999         1   \n",
       "\n",
       "         poutcome emp.var.rate  cons.price.idx  cons.conf.idx  euribor3m  \\\n",
       "0     nonexistent          1.1          93.994          -36.4      4.857   \n",
       "1     nonexistent          1.1          93.994          -36.4      4.857   \n",
       "2     nonexistent          1.1          93.994          -36.4      4.857   \n",
       "3     nonexistent          1.1          93.994          -36.4      4.857   \n",
       "4     nonexistent          1.1          93.994          -36.4      4.857   \n",
       "...           ...          ...             ...            ...        ...   \n",
       "7586  nonexistent         -1.1          94.767          -50.8      1.028   \n",
       "7587  nonexistent         -1.1          94.767          -50.8      1.028   \n",
       "7588  nonexistent         -1.1          94.767          -50.8      1.028   \n",
       "7589  nonexistent         -1.1          94.767          -50.8      1.028   \n",
       "7590      failure         -1.1          94.767          -50.8      1.028   \n",
       "\n",
       "      nr.employed  target  \n",
       "0          5191.0     0.0  \n",
       "1          5191.0     0.0  \n",
       "2          5191.0     0.0  \n",
       "3          5191.0     0.0  \n",
       "4          5191.0     0.0  \n",
       "...           ...     ...  \n",
       "7586       4963.6     1.0  \n",
       "7587       4963.6     0.0  \n",
       "7588       4963.6     0.0  \n",
       "7589       4963.6     1.0  \n",
       "7590       4963.6     0.0  \n",
       "\n",
       "[41188 rows x 21 columns]"
      ]
     },
     "metadata": {},
     "output_type": "display_data"
    }
   ],
   "source": [
    "df = bprunner.get_prepped_data_df(execution_arn)\n",
    "display(df)"
   ]
  },
  {
   "cell_type": "markdown",
   "metadata": {},
   "source": [
    "---\n",
    "Now, you can use your model inspector to get the feature impact for a specific prediction. The cell below shows the features that influence the prediction for row number 31614. You can change the row id to obtain predictions for other records in your dataset."
   ]
  },
  {
   "cell_type": "code",
   "execution_count": 18,
   "metadata": {},
   "outputs": [
    {
     "data": {
      "image/png": "[encoded data removed]",
      "text/plain": [
       "<Figure size 1440x216 with 1 Axes>"
      ]
     },
     "metadata": {
      "needs_background": "light"
     },
     "output_type": "display_data"
    },
    {
     "name": "stdout",
     "output_type": "stream",
     "text": [
      "The ground truth was 0.0. The model predicts 0.005339. \n",
      "\n"
     ]
    }
   ],
   "source": [
    "description = inspector.explain_prediction(data_row_id = 31614)\n",
    "print(description)"
   ]
  },
  {
   "cell_type": "markdown",
   "metadata": {},
   "source": [
    "---\n",
    "#### Post Training Bias Analysis\n",
    "\n",
    "The blueprint uses Amazon SageMaker Clarify to generate post-training bias metrics. The animation below how to navigate to the bias reports generated for your best model.\n"
   ]
  },
  {
   "cell_type": "markdown",
   "metadata": {},
   "source": [
    "![Bias Report](img/bp-bias-report.gif)"
   ]
  },
  {
   "cell_type": "markdown",
   "metadata": {},
   "source": [
    "---\n",
    "### [Optional] Deploy Model\n",
    "\n",
    "You've inspected your model. You've approved the quality. You're now ready to deploy as a hosted endpoint on Amazon SageMaker to serve real-time predictions.\n",
    "\n",
    "You can run the cells below to deploy a hosted endpoint."
   ]
  },
  {
   "cell_type": "code",
   "execution_count": 11,
   "metadata": {},
   "outputs": [
    {
     "data": {
      "text/plain": [
       "{'EndpointArn': 'arn:aws:sagemaker:us-west-1:803235869972:endpoint/automl-bp-ep-2021-04-08-21-50-52',\n",
       " 'ResponseMetadata': {'RequestId': '08a96083-0750-46aa-9f46-066e9b103064',\n",
       "  'HTTPStatusCode': 200,\n",
       "  'HTTPHeaders': {'x-amzn-requestid': '08a96083-0750-46aa-9f46-066e9b103064',\n",
       "   'content-type': 'application/x-amz-json-1.1',\n",
       "   'content-length': '100',\n",
       "   'date': 'Thu, 08 Apr 2021 21:50:52 GMT'},\n",
       "  'RetryAttempts': 0}}"
      ]
     },
     "execution_count": 11,
     "metadata": {},
     "output_type": "execute_result"
    }
   ],
   "source": [
    "now = strftime(\"%Y-%m-%d-%H-%M-%S\", gmtime())\n",
    "\n",
    "epc_name = f\"automl-bp-epc-{now}\"\n",
    "ep_name = f\"automl-bp-ep-{now}\"\n",
    "\n",
    "model_name = bprunner.get_best_model_name(execution_arn)\n",
    "ep_instance_type = \"ml.m5.large\"\n",
    "\n",
    "variant_config = {\n",
    "    \"VariantName\":\"v1\",\n",
    "    \"ModelName\":model_name,\n",
    "    \"InitialInstanceCount\": 1,\n",
    "    \"InstanceType\": ep_instance_type\n",
    "}\n",
    "\n",
    "sm.create_endpoint_config(\n",
    "    EndpointConfigName = epc_name,\n",
    "    ProductionVariants=[variant_config])\n",
    "\n",
    "sm.create_endpoint(\n",
    "    EndpointName= ep_name,\n",
    "    EndpointConfigName=epc_name\n",
    ")"
   ]
  },
  {
   "cell_type": "markdown",
   "metadata": {},
   "source": [
    "You can monitor the progress of your endpoint deployment from Amazon SageMaker Studio:\n",
    "\n",
    "<img src=\"img/sm-endpoints.png\" width=30% align=\"left\" />"
   ]
  },
  {
   "cell_type": "markdown",
   "metadata": {},
   "source": [
    "---\n",
    "#### Clean up\n",
    "\n",
    "Once you're done with your endpoint, you can uncomment and run this line of code to delete your endpoint."
   ]
  },
  {
   "cell_type": "code",
   "execution_count": null,
   "metadata": {},
   "outputs": [],
   "source": [
    "#sm.delete_endpoint(EndpointName=ep_name)"
   ]
  }
 ],
 "metadata": {
  "instance_type": "ml.t3.medium",
  "kernelspec": {
   "display_name": "Python 3 (Data Science)",
   "language": "python",
   "name": "python3__SAGEMAKER_INTERNAL__arn:aws:sagemaker:eu-west-1:470317259841:image/datascience-1.0"
  },
  "language_info": {
   "codemirror_mode": {
    "name": "ipython",
    "version": 3
   },
   "file_extension": ".py",
   "mimetype": "text/x-python",
   "name": "python",
   "nbconvert_exporter": "python",
   "pygments_lexer": "ipython3",
   "version": "3.7.10"
  }
 },
 "nbformat": 4,
 "nbformat_minor": 4
}

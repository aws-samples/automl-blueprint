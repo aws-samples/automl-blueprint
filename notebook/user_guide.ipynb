{
 "cells": [
  {
   "cell_type": "markdown",
   "metadata": {},
   "source": [
    "# Autopilot Blueprint and Trusted AI Guide\n",
    "\n",
    "This notebook guides you through the process of using a no-code ML pipeline (blueprint) to deliver an optimized ML model. The workflow uses:\n",
    "\n",
    " * [Amazon SageMaker DataWrangler](https://aws.amazon.com/sagemaker/data-wrangler/) for data prep. It provdies a graphical interface for creating data prep flows. \n",
    " * [Amazon SageMaker Autopilot](https://aws.amazon.com/sagemaker/autopilot/) for mode creation. It provides AutoML on tabular data through a fully managed experience.\n",
    " * [Amazon SageMaker Clarify](https://aws.amazon.com/sagemaker/clarify/) and [Inference](https://docs.aws.amazon.com/sagemaker/latest/dg/how-it-works-batch.html) capabilities are used to facilitate Trusted AI.\n",
    "\n",
    "#### Leaning Objectives\n",
    "\n",
    " * Learn how to use the AutoML blueprint.\n",
    " * Learn the facilities available to you to facilitated Trusted AI.\n",
    " * Deploy a real-time hosted model endpoint that is ready for integration into your analytics systems.\n",
    " \n",
    "#### The Data\n",
    "\n",
    "This notebook uses the [UCI Bank Marketing Dataset](https://archive.ics.uci.edu/ml/datasets/Bank+Marketing) as an example. This tabular dataset contains the results of a marketing campaign to acquire customers for term deposits. Each record represents information about a prospect. The last column is the target variable. It contains information of whether the prospect subscribed to the term deposit. <br><br>_Citation: Moro et al., 2014] S. Moro, P. Cortez and P. Rita. A Data-Driven Approach to Predict the Success of Bank Telemarketing. Decision Support Systems, Elsevier, 62:22-31, June 2014_\n",
    "\n",
    "#### Compatibility\n",
    "\n",
    "* __Amazon SageMaker DataWrangler:__ design and tested for \n",
    "  * Flow definition schema: 1.0\n",
    "  * DataWrangler Processing Container: 1.3.0\n",
    "  \n",
    "\n",
    "* __Amazon SageMaker Clarify:__ designed and tested for\n",
    "  * Bias processing container: 1.0\n",
    "  * XAI processing container: 1.0\n",
    "  \n",
    "* __Amazon SageMaker Studio:__ this notebook was designed and tested on\n",
    "  * Python3 (Data Science) Kernel\n",
    "  * Amazon SageMaker SDK version 2.x\n",
    "\n",
    "You can contact me regarding issues with the blueprint and notebook: <a href=\"mailto:dylatong@amazon.com\">Dylan Tong, AWS</a>\n",
    "\n",
    "---"
   ]
  },
  {
   "cell_type": "markdown",
   "metadata": {},
   "source": [
    "## Prerequsites\n",
    "\n",
    "1. This notebook requires access to Amazon S3, StepFunctions, and SageMaker. Attach the following managed policies to your Amazon SageMaker Studio execution role:\n",
    "\n",
    "  * AmazonSageMakerFullAccess\n",
    "  * AWSStepFunctionsFullAccess\n",
    "  * AmazonS3FullAccess\n",
    "  \n",
    "  \n",
    "2. Deploy the [Autopilot Blueprint CloudFormation template]( https://dtong-public-fileshares3-us-west-2.amazonaws.com/automl-blueprint/code/cf/automl-blueprint.yml) before you continue further. You can deploy the template from the console by providing the following TemplateURL: https://dtong-public-fileshares3-us-west-2.amazonaws.com/automl-blueprint/code/cf/automl-blueprint.yml. <br> <br> Use the __default settings__ or you will be required to modify the code in this notebook.\n",
    "\n",
    " ![Deploy Blueprint Video](img/cf-deploy-bp.gif)"
   ]
  },
  {
   "cell_type": "markdown",
   "metadata": {},
   "source": [
    "3. Optionally, [clone the Github repository](https://docs.aws.amazon.com/sagemaker/latest/dg/studio-tasks-git.html) over to your Amazon SageMaker Studio instance.\n",
    "\n",
    "  ![Setup Git Video](img/sm-setup-git.gif)\n",
    "\n",
    "  The blueprint consists of the following assets:\n",
    "\n",
    "  * __code/deploy:__ the CloudFormation template to deploy the solution.\n",
    "  * __code/workflow/implementations/autopilot:__ contains the Lambda function code executed as part of a StepFunction workflow. This workflow implemention orchestrates SageMaker DataWrangler, Autopilot, Clarify and other core SageMaker processes. \n",
    "  * __code/workflow/layers:__ contains Amazon SageMaker dependencies required by the workflow. These dependencies are deployed as a Lambda Layer.\n",
    "  * __config/blueprint-config.json:__ this file contains parameters you can configure to change the behavior of the blueprint. The blueprint looks for this configuration file in the S3 bucket that you configured as your workspace. The file should be stored under the prefix /config.\n",
    "  * __meta/uci-bank-marketing-dataset.flow:__ this is a sample flow file produced by DataWrangler. You can create and save your own flow file in your workspace under the /meta prefix. You will need to reconfigure blueprint-config.json to use your flow file.\n",
    "  * __notebook:__ this directory contains the assets for this notebook.\n",
    "\n",
    "___"
   ]
  },
  {
   "cell_type": "markdown",
   "metadata": {},
   "source": [
    "#### Install Dependencies\n",
    "Run the following to install dependencies that aren't included with the Python 3 (Data Science) Kernel by default."
   ]
  },
  {
   "cell_type": "code",
   "execution_count": null,
   "metadata": {},
   "outputs": [],
   "source": [
    "!conda install -y -c conda-forge tqdm shap"
   ]
  },
  {
   "cell_type": "markdown",
   "metadata": {},
   "source": [
    "#### Initialize Notebook\n",
    "\n",
    "Run the following to assign global variables and import the required libraries."
   ]
  },
  {
   "cell_type": "code",
   "execution_count": 5,
   "metadata": {},
   "outputs": [],
   "source": [
    "import json\n",
    "import os\n",
    "\n",
    "import numpy as np\n",
    "import boto3\n",
    "\n",
    "from utils.bpconfig import BPConfig\n",
    "from utils.viz import ModelInspector\n",
    "from utils.wf import SFNMonitor,  BPRunner\n",
    "import utils.wf, utils.bpconfig, utils.flow\n",
    "\n",
    "sfn = boto3.client(\"stepfunctions\")\n",
    "sm = boto3.client(\"sagemaker\")\n",
    "s3 = boto3.client(\"s3\")\n",
    "\n",
    "account_id = boto3.client('sts').get_caller_identity().get('Account')\n",
    "region = boto3.session.Session().region_name\n",
    "workspace = f\"bp-workspace-{region}-{account_id}\"\n",
    "bpconfig = BPConfig.get_config(workspace, os.getcwd())\n",
    "local_dir = os.getcwd()\n",
    "\n",
    "bprunner = BPRunner(workspace, py_driver=sfn)\n",
    "\n",
    "## If you modified the Cloudformation default parameters, you will need to update wf_name accordingly.\n",
    "WF_NAME = \"bp-autopilot-blueprint\""
   ]
  },
  {
   "cell_type": "markdown",
   "metadata": {},
   "source": [
    "---\n",
    "\n",
    "### [Optional] View Pre-training Analysis Reports and Data Flow\n",
    "\n",
    "This notebook includes a sample flow file for prepping the UCI bank marketing dataset. It includes examples of analysis reports created with Amazon SageMaker DataWrangler for target leakage and data bias analysis.\n",
    "\n",
    "Run the following cell to download the sample flow.\n"
   ]
  },
  {
   "cell_type": "code",
   "execution_count": 15,
   "metadata": {},
   "outputs": [
    {
     "name": "stdout",
     "output_type": "stream",
     "text": [
      "The flow definition file was copied to /root/automl-blueprint/notebook/uci-bank-marketing-dataset.flow\n"
     ]
    }
   ],
   "source": [
    "fname = utils.flow.copy_sample_flow_to_local(workspace, local_dir)\n",
    "print(f\"The flow definition file was copied to {fname}\")"
   ]
  },
  {
   "cell_type": "markdown",
   "metadata": {},
   "source": [
    "---\n",
    "\n",
    "Launch the DataWrangler GUI from the flow definition file and navigate to the analysis reports as shown below.\n",
    "\n",
    "![DataWrangler Analysis Reports](img/dw-analysis-reports.gif)\n",
    "\n"
   ]
  },
  {
   "cell_type": "markdown",
   "metadata": {},
   "source": [
    "---\n",
    "The target leakage report should look like the following:\n"
   ]
  },
  {
   "cell_type": "markdown",
   "metadata": {},
   "source": [
    "![Target Leakage Report](img/target-leakage-report.png)"
   ]
  },
  {
   "cell_type": "markdown",
   "metadata": {},
   "source": [
    "---\n",
    "The data bias analysis report should look like the following:\n",
    "\n",
    "![Data Bias Report](img/data-bias-report.png)"
   ]
  },
  {
   "cell_type": "markdown",
   "metadata": {},
   "source": [
    "___\n",
    "\n",
    "### Run the AutoML Blueprint\n",
    "\n",
    "By now, the CloudFormation template should be in the COMPLETED status. The template will create a StepFunction workflow which will orchestrate the process of data preparation, model creation using AutoML and model evaluation.\n",
    "\n",
    "\n",
    "Run the following cell to find the ARN of the blueprint workflow that was created in your account."
   ]
  },
  {
   "cell_type": "code",
   "execution_count": 6,
   "metadata": {},
   "outputs": [
    {
     "name": "stdout",
     "output_type": "stream",
     "text": [
      "Found the resource id of your workflow: arn:aws:states:us-west-1:803235869972:stateMachine:bp-autopilot-blueprint\n"
     ]
    }
   ],
   "source": [
    "wf_arn = utils.wf.find_sfn_arn(sfn, WF_NAME)\n",
    "print(f\"Found the resource id of your workflow: {wf_arn}\")"
   ]
  },
  {
   "cell_type": "markdown",
   "metadata": {},
   "source": [
    "---\n",
    "This blueprint is designed to provide a serverless and no-code experience. As you a user, you provide:\n",
    "\n",
    "1. Raw data\n",
    "2. An Amazon SageMaker DataWrangler flow created through the GUI\n",
    "3. Blueprint configurations\n",
    "\n",
    "Run the cell below to view the default configurations. You don't need to change any of the settings for this tutorial."
   ]
  },
  {
   "cell_type": "code",
   "execution_count": 2,
   "metadata": {},
   "outputs": [
    {
     "name": "stdout",
     "output_type": "stream",
     "text": [
      "\n",
      " The blueprint configurations were downloaded to /root/automl-blueprint/notebook/blueprint-config.json \n",
      "\n",
      "{\n",
      "    \"automl-config\": {\n",
      "        \"job_base_name\": \"automl-bp\",\n",
      "        \"max_candidates\": \"1\",\n",
      "        \"metric_name\": \"AUC\",\n",
      "        \"minimum_performance\": 0.9,\n",
      "        \"problem_type\": \"BinaryClassification\",\n",
      "        \"target_name\": \"target\"\n",
      "    },\n",
      "    \"bias-analysis-config\": {\n",
      "        \"bias-config\": {\n",
      "            \"facet_name\": \"age\",\n",
      "            \"facet_values_or_threshold\": [\n",
      "                30\n",
      "            ],\n",
      "            \"group_name\": \"job\",\n",
      "            \"label_values_or_threshold\": [\n",
      "                1\n",
      "            ]\n",
      "        },\n",
      "        \"instance_count\": 1,\n",
      "        \"instance_type\": \"ml.c5.xlarge\",\n",
      "        \"job_base_name\": \"bp-clarify-bias\",\n",
      "        \"output_prefix\": \"eval/bias\",\n",
      "        \"prediction-config\": {\n",
      "            \"label\": null,\n",
      "            \"label_headers\": null,\n",
      "            \"probability\": 0,\n",
      "            \"probability_threshold\": 0.8\n",
      "        }\n",
      "    },\n",
      "    \"data-config\": {\n",
      "        \"prepped_out_prefix\": \"automl-blueprint/data/prepped\",\n",
      "        \"raw_in_prefix\": \"automl-blueprint/sample-data/bank-marketing\"\n",
      "    },\n",
      "    \"dataprep-config\": {\n",
      "        \"data_version\": 1,\n",
      "        \"definition_file\": \"uci-bank-marketing-dataset.flow\",\n",
      "        \"instance_count\": 1,\n",
      "        \"instance_type\": \"ml.m5.4xlarge\",\n",
      "        \"output_node_id\": \"82971d23-e4f7-49cd-b4a9-f065d36e01ce.default\"\n",
      "    },\n",
      "    \"deployment-config\": {},\n",
      "    \"error-analysis-config\": {\n",
      "        \"job_base_name\": \"bp-error-analysis\",\n",
      "        \"output_prefix\": \"eval/error\",\n",
      "        \"transform-config\": {\n",
      "            \"assemble_with\": \"Line\",\n",
      "            \"input_filter\": \"$[:-2]\",\n",
      "            \"instance_count\": 1,\n",
      "            \"instance_type\": \"ml.m5.xlarge\",\n",
      "            \"join_source\": \"Input\",\n",
      "            \"output_filter\": \"$[-2,-1]\",\n",
      "            \"split_type\": \"Line\",\n",
      "            \"strategy\": \"SingleRecord\"\n",
      "        }\n",
      "    },\n",
      "    \"model-config\": {\n",
      "        \"inference_response_keys\": [\n",
      "            \"probability\"\n",
      "        ],\n",
      "        \"instance_count\": 1,\n",
      "        \"instance_type\": \"ml.m5.xlarge\",\n",
      "        \"model_base_name\": \"automl-bp-model\"\n",
      "    },\n",
      "    \"pipeline-config\": {},\n",
      "    \"security-config\": {},\n",
      "    \"workspace-config\": {\n",
      "        \"s3_prefix\": \"automl-blueprint\"\n",
      "    },\n",
      "    \"xai-config\": {\n",
      "        \"instance_count\": 1,\n",
      "        \"instance_type\": \"ml.c5.xlarge\",\n",
      "        \"job_base_name\": \"bp-clarify-shap\",\n",
      "        \"output_prefix\": \"eval/xai\",\n",
      "        \"shap-config\": {\n",
      "            \"agg_method\": \"mean_abs\",\n",
      "            \"num_samples\": 1\n",
      "        }\n",
      "    }\n",
      "}\n"
     ]
    }
   ],
   "source": [
    "config = BPConfig.get_config(workspace, local_dir)\n",
    "print(f\"\\n The blueprint configurations were downloaded to {local_dir}/blueprint-config.json \\n\")\n",
    "config.print()"
   ]
  },
  {
   "cell_type": "markdown",
   "metadata": {},
   "source": [
    "___\n",
    "Run the following cell to execute the blueprint workflow."
   ]
  },
  {
   "cell_type": "code",
   "execution_count": 2,
   "metadata": {},
   "outputs": [
    {
     "data": {
      "application/vnd.jupyter.widget-view+json": {
       "model_id": "7cf01690f67349bd9740ac00d75d4ccd",
       "version_major": 2,
       "version_minor": 0
      },
      "text/plain": [
       "Workflow Initiated:   0%|          | 0/10 [00:00<?, ?it/s]"
      ]
     },
     "metadata": {},
     "output_type": "display_data"
    },
    {
     "ename": "Exception",
     "evalue": "Workflow execution FAILED.",
     "output_type": "error",
     "traceback": [
      "\u001b[0;31m---------------------------------------------------------------------------\u001b[0m",
      "\u001b[0;31mException\u001b[0m                                 Traceback (most recent call last)",
      "\u001b[0;32m<ipython-input-2-eb264080959d>\u001b[0m in \u001b[0;36m<module>\u001b[0;34m\u001b[0m\n\u001b[1;32m      1\u001b[0m \u001b[0mbprunner\u001b[0m \u001b[0;34m=\u001b[0m \u001b[0mBPRunner\u001b[0m\u001b[0;34m(\u001b[0m\u001b[0mworkspace\u001b[0m\u001b[0;34m,\u001b[0m \u001b[0mpy_driver\u001b[0m\u001b[0;34m=\u001b[0m\u001b[0msfn\u001b[0m\u001b[0;34m)\u001b[0m\u001b[0;34m\u001b[0m\u001b[0;34m\u001b[0m\u001b[0m\n\u001b[0;32m----> 2\u001b[0;31m \u001b[0mbprunner\u001b[0m\u001b[0;34m.\u001b[0m\u001b[0mrun_blueprint\u001b[0m\u001b[0;34m(\u001b[0m\u001b[0mWF_NAME\u001b[0m\u001b[0;34m,\u001b[0m \u001b[0mwait\u001b[0m\u001b[0;34m=\u001b[0m\u001b[0;32mTrue\u001b[0m\u001b[0;34m)\u001b[0m\u001b[0;34m\u001b[0m\u001b[0;34m\u001b[0m\u001b[0m\n\u001b[0m",
      "\u001b[0;32m~/automl-blueprint/notebook/utils/wf.py\u001b[0m in \u001b[0;36mrun_blueprint\u001b[0;34m(self, name, wait)\u001b[0m\n\u001b[1;32m     72\u001b[0m                 \u001b[0;31m# TODO: need a generic way to obtain the workflow steps. Currently, the progress bar is\u001b[0m\u001b[0;34m\u001b[0m\u001b[0;34m\u001b[0m\u001b[0;34m\u001b[0m\u001b[0m\n\u001b[1;32m     73\u001b[0m                 \u001b[0;31m# hardcoded to 9 steps.\u001b[0m\u001b[0;34m\u001b[0m\u001b[0;34m\u001b[0m\u001b[0;34m\u001b[0m\u001b[0m\n\u001b[0;32m---> 74\u001b[0;31m                 \u001b[0mmonitor\u001b[0m\u001b[0;34m.\u001b[0m\u001b[0mrun\u001b[0m\u001b[0;34m(\u001b[0m\u001b[0mexecution_id\u001b[0m\u001b[0;34m)\u001b[0m\u001b[0;34m\u001b[0m\u001b[0;34m\u001b[0m\u001b[0m\n\u001b[0m\u001b[1;32m     75\u001b[0m \u001b[0;34m\u001b[0m\u001b[0m\n\u001b[1;32m     76\u001b[0m         \u001b[0;32mreturn\u001b[0m \u001b[0mexecution_id\u001b[0m\u001b[0;34m\u001b[0m\u001b[0;34m\u001b[0m\u001b[0m\n",
      "\u001b[0;32m~/automl-blueprint/notebook/utils/wf.py\u001b[0m in \u001b[0;36mrun\u001b[0;34m(self, execution_arn, n_stages)\u001b[0m\n\u001b[1;32m    191\u001b[0m             \u001b[0;32mif\u001b[0m \u001b[0mself\u001b[0m\u001b[0;34m.\u001b[0m\u001b[0m_wf_failed\u001b[0m\u001b[0;34m(\u001b[0m\u001b[0mstatus\u001b[0m\u001b[0;34m)\u001b[0m \u001b[0;34m:\u001b[0m\u001b[0;34m\u001b[0m\u001b[0;34m\u001b[0m\u001b[0m\n\u001b[1;32m    192\u001b[0m                 \u001b[0mmain_pb\u001b[0m\u001b[0;34m.\u001b[0m\u001b[0mleave\u001b[0m\u001b[0;34m=\u001b[0m\u001b[0;32mTrue\u001b[0m\u001b[0;34m\u001b[0m\u001b[0;34m\u001b[0m\u001b[0m\n\u001b[0;32m--> 193\u001b[0;31m                 \u001b[0;32mraise\u001b[0m \u001b[0mException\u001b[0m\u001b[0;34m(\u001b[0m\u001b[0;34mf\"Workflow execution {status}.\"\u001b[0m\u001b[0;34m)\u001b[0m\u001b[0;34m\u001b[0m\u001b[0;34m\u001b[0m\u001b[0m\n\u001b[0m\u001b[1;32m    194\u001b[0m \u001b[0;34m\u001b[0m\u001b[0m\n\u001b[1;32m    195\u001b[0m             events = self.sfn.get_execution_history(\n",
      "\u001b[0;31mException\u001b[0m: Workflow execution FAILED."
     ]
    }
   ],
   "source": [
    "execution_arn = bprunner.run_blueprint(WF_NAME, wait=False)"
   ]
  },
  {
   "cell_type": "markdown",
   "metadata": {},
   "source": [
    "---\n",
    "\n",
    "You have the option to monitor the workflow progress from the StepFunctions console, or from this notebook. Run the next cell to obtain the link to the StepFunction workflow console.\n"
   ]
  },
  {
   "cell_type": "code",
   "execution_count": 8,
   "metadata": {},
   "outputs": [
    {
     "data": {
      "text/markdown": [
       "<img src='img/sfn-bp-workflow.png' width=50%, align='right'/> </br>    You can monitor the progress of your workflow from the StepFunctions console: </br> </br>   https://us-west-1.console.aws.amazon.com/states/home?region=us-west-1#/executions/details/arn:aws:states:us-west-1:803235869972:execution:bp-autopilot-blueprint:9f84594f-274d-4d1e-9a2b-54dc5d0c496e</br></br>    Alternatively, you can run the cell below to monitor the progress from your notebook."
      ],
      "text/plain": [
       "<IPython.core.display.Markdown object>"
      ]
     },
     "execution_count": 8,
     "metadata": {},
     "output_type": "execute_result"
    }
   ],
   "source": [
    "from IPython.display import Markdown as md\n",
    "\n",
    "sfn_console = f\"https://{region}.console.aws.amazon.com/states/home?region={region}#/executions/details/{execution_arn}\"\n",
    "\n",
    "md(f\"<img src='img/sfn-bp-workflow.png' width=50%, align='right'/> </br> \\\n",
    "   You can monitor the progress of your workflow from the StepFunctions console: </br> </br>\\\n",
    "   {sfn_console}</br></br> \\\n",
    "   Alternatively, you can run the cell below to monitor the progress from your notebook.\")"
   ]
  },
  {
   "cell_type": "markdown",
   "metadata": {},
   "source": [
    "---\n",
    "\n",
    "Run the following cell if you like to render a progress bar to monitor the progress of the workflow.\n"
   ]
  },
  {
   "cell_type": "code",
   "execution_count": 14,
   "metadata": {},
   "outputs": [
    {
     "data": {
      "application/vnd.jupyter.widget-view+json": {
       "model_id": "cfc062c775004d47aa842f25f0317f44",
       "version_major": 2,
       "version_minor": 0
      },
      "text/plain": [
       "Workflow Initiated:   0%|          | 0/10 [00:00<?, ?it/s]"
      ]
     },
     "metadata": {},
     "output_type": "display_data"
    },
    {
     "data": {
      "application/vnd.jupyter.widget-view+json": {
       "model_id": "6dcdd372dfe643e0ab0e70cc779a126e",
       "version_major": 2,
       "version_minor": 0
      },
      "text/plain": [
       ">> Parallel Stage: Error Analysis:   0%|          | 0/1 [00:00<?, ?it/s]"
      ]
     },
     "metadata": {},
     "output_type": "display_data"
    },
    {
     "data": {
      "application/vnd.jupyter.widget-view+json": {
       "model_id": "0de3167339744875acca8510e30ab9bd",
       "version_major": 2,
       "version_minor": 0
      },
      "text/plain": [
       ">> Parallel Stage: XAI Analysis:   0%|          | 0/1 [00:00<?, ?it/s]"
      ]
     },
     "metadata": {},
     "output_type": "display_data"
    },
    {
     "data": {
      "application/vnd.jupyter.widget-view+json": {
       "model_id": "31bee37efb964203b6d3357586b1fa41",
       "version_major": 2,
       "version_minor": 0
      },
      "text/plain": [
       ">> Parallel Stage: Bias Analysis:   0%|          | 0/1 [00:00<?, ?it/s]"
      ]
     },
     "metadata": {},
     "output_type": "display_data"
    }
   ],
   "source": [
    "SFNMonitor().run(execution_arn)"
   ]
  },
  {
   "cell_type": "markdown",
   "metadata": {},
   "source": [
    "___\n",
    "\n",
    "### [Optional] Understand the AutoML Process\n",
    "\n",
    "This notebook runs the blueprint with Amazon SageMaker Autopilot as the AutoML engine. Autopilot provides transparency into the AutoML process, so you can optionally inspect the automated data profiling and pipeline generation code that gets executed by Autopilot's distributed processing.\n",
    "\n",
    "The blueprint configurations are set to have Autopilot explore one candidate to minimize the time and cost of this tutorial. However, this isn't practical. In practice, you want Autopilot to explore many candidates resulting in Autopilot to experiment with multiple algorithms and feature processing steps to discover the pipeline that produces the highest performing model on your dataset.\n",
    "\n",
    "The following steps serve as examples, but won't provide interesting insights. If you like to aim for a production quality type model, you can change the _max_candidates_ configuration to the default value of 250. \n",
    "\n",
    "___\n",
    "\n",
    "Optionally, uncomment the following code to modify the blueprint configuration file and re-run the blueprint workflow. This will result in a higher quality model and the remainder of the notebook will provide more practical model insights. Regardless, the remainder of the notebook will guide you the steps that you take in practice.\n"
   ]
  },
  {
   "cell_type": "code",
   "execution_count": null,
   "metadata": {},
   "outputs": [
    {
     "data": {
      "application/vnd.jupyter.widget-view+json": {
       "model_id": "b7c380f4a98b48569a85a61590d39eb7",
       "version_major": 2,
       "version_minor": 0
      },
      "text/plain": [
       "Workflow Initiated:   0%|          | 0/10 [00:00<?, ?it/s]"
      ]
     },
     "metadata": {},
     "output_type": "display_data"
    }
   ],
   "source": [
    "MAX_CANDIDATES = 250\n",
    "MINIMUM_PERFORMANCE = 0.93\n",
    "\n",
    "automl_config = {\n",
    "  \"job_base_name\": \"automl-bp\",\n",
    "  \"max_candidates\": MAX_CANDIDATES,\n",
    "  \"target_name\": \"target\",\n",
    "  \"problem_type\": \"BinaryClassification\",\n",
    "  \"metric_name\": \"AUC\",\n",
    "  \"minimum_performance\": MINIMUM_PERFORMANCE\n",
    "}\n",
    "# Update the blueprint configuration. Note that you can modify the json configuration file directly.\n",
    "# You could build a GUI inteface in place of the json configuration file.\n",
    "config.update_automl_config(automl_config)\n",
    "\n",
    "# Rerun the workflow.\n",
    "execution_arn = bprunner.run_blueprint(WF_NAME, wait=True)\n",
    "\n",
    "print(f\"StepFunction workflow has completed. The execution Id is: {execution_arn}.\")"
   ]
  },
  {
   "cell_type": "markdown",
   "metadata": {},
   "source": []
  },
  {
   "cell_type": "markdown",
   "metadata": {},
   "source": [
    "---\n",
    "\n",
    "You can inspect the data profiling and candidate pipeline generation steps from notebooks that were generated as part of your Amazon SageMaker Autopilot job. The following video shows how you can navigate to these notebooks.\n",
    "\n",
    "[todo]"
   ]
  },
  {
   "cell_type": "markdown",
   "metadata": {},
   "source": [
    "---\n",
    "\n",
    "### Evaluate your Model\n",
    "\n",
    "At this point, your workflow should have completed successfully. We can now inspect our model further.\n",
    "\n",
    "Run the following cell to configure our Model Inspector.\n"
   ]
  },
  {
   "cell_type": "code",
   "execution_count": 16,
   "metadata": {},
   "outputs": [],
   "source": [
    "inspector_params = {\n",
    "    \"workspace\": workspace,\n",
    "    \"prefixes\": {\n",
    "        \"results_path\": \"automl-blueprint/eval/error\",\n",
    "        \"bias_path\": \"automl-blueprint/eval/bias\",\n",
    "        \"xai_path\": \"automl-blueprint/eval/xai\"\n",
    "    },\n",
    "    \"results-config\":{\n",
    "        \"gt_index\": 0,\n",
    "        \"pred_index\": 1,\n",
    "    }\n",
    "}\n",
    "\n",
    "inspector = ModelInspector(inspector_params)"
   ]
  },
  {
   "cell_type": "code",
   "execution_count": 17,
   "metadata": {},
   "outputs": [
    {
     "data": {
      "image/png": "[encoded data removed]",
      "text/plain": [
       "<Figure size 432x288 with 1 Axes>"
      ]
     },
     "metadata": {
      "needs_background": "light"
     },
     "output_type": "display_data"
    }
   ],
   "source": [
    "_, _, fpr, tpr, thresholds = inspector.get_roc_curve()"
   ]
  },
  {
   "cell_type": "code",
   "execution_count": 18,
   "metadata": {},
   "outputs": [
    {
     "data": {
      "image/png": "[encoded data removed]",
      "text/plain": [
       "<Figure size 1440x216 with 1 Axes>"
      ]
     },
     "metadata": {
      "needs_background": "light"
     },
     "output_type": "display_data"
    }
   ],
   "source": [
    "inspector.visualize_auc(fpr,tpr,thresholds)"
   ]
  },
  {
   "cell_type": "code",
   "execution_count": 19,
   "metadata": {},
   "outputs": [
    {
     "data": {
      "application/vnd.jupyter.widget-view+json": {
       "model_id": "19bc80b9aec64f5191a09bf91fe544f9",
       "version_major": 2,
       "version_minor": 0
      },
      "text/plain": [
       "interactive(children=(FloatSlider(value=0.5, description='Threshold', max=1.0, step=0.05), Output()), _dom_cla…"
      ]
     },
     "metadata": {},
     "output_type": "display_data"
    }
   ],
   "source": [
    "%matplotlib inline\n",
    "\n",
    "inspector.display_interactive_cm()"
   ]
  },
  {
   "cell_type": "markdown",
   "metadata": {},
   "source": [
    "![Global Shap Report](img/global-shap-report.gif)"
   ]
  },
  {
   "cell_type": "code",
   "execution_count": null,
   "metadata": {},
   "outputs": [],
   "source": [
    "inspector.explain_prediction(data_row_id = 31614)"
   ]
  },
  {
   "cell_type": "markdown",
   "metadata": {},
   "source": [
    "![Bias Report](img/bp-bias-report.gif)"
   ]
  },
  {
   "cell_type": "markdown",
   "metadata": {},
   "source": [
    "## __[Optional]__ Deploy Model"
   ]
  },
  {
   "cell_type": "code",
   "execution_count": 23,
   "metadata": {},
   "outputs": [
    {
     "name": "stdout",
     "output_type": "stream",
     "text": [
      "{'executionArn': 'arn:aws:states:us-west-1:803235869972:execution:bp-autopilot-blueprint:bcba8129-b226-49dc-bb8a-36779ab5d5dd', 'stateMachineArn': 'arn:aws:states:us-west-1:803235869972:stateMachine:bp-autopilot-blueprint', 'name': 'bcba8129-b226-49dc-bb8a-36779ab5d5dd', 'status': 'SUCCEEDED', 'startDate': datetime.datetime(2021, 4, 5, 20, 25, 19, 34000, tzinfo=tzlocal()), 'stopDate': datetime.datetime(2021, 4, 5, 21, 38, 54, 626000, tzinfo=tzlocal()), 'input': '{\"config_uri\": \"s3://bp-workspace-us-west-1-803235869972/automl-blueprint/config/blueprint-config.json\"}', 'inputDetails': {'included': True}, 'output': '[{\"ExecutedVersion\":\"$LATEST\",\"Payload\":{\"security-config\":{\"iam_role\":\"arn:aws:iam::803235869972:role/bp-autopilot-sm-role\"},\"workspace-config\":{\"s3_prefix\":\"automl-blueprint\",\"s3_bucket\":\"bp-workspace-us-west-1-803235869972\"},\"data-config\":{\"raw_in_prefix\":\"automl-blueprint/sample-data/bank-marketing\",\"prepped_out_prefix\":\"automl-blueprint/data/prepped\",\"s3_bucket\":\"bp-workspace-us-west-1-803235869972\"},\"pipeline-config\":{},\"dataprep-config\":{\"definition_file\":\"uci-bank-marketing-dataset.flow\",\"output_node_id\":\"82971d23-e4f7-49cd-b4a9-f065d36e01ce.default\",\"instance_type\":\"ml.m5.4xlarge\",\"instance_count\":1,\"data_version\":1,\"data-wrangler-job-def\":{\"ProcessingJobName\":\"DataWranglerProcess-2021-04-05-20-25-19\",\"ClusterConfig\":{\"InstanceType\":\"ml.m5.4xlarge\",\"InstanceCount\":1,\"VolumeSizeInGB\":30},\"AppSpecification\":{\"ImageUri\":\"926135532090.dkr.ecr.us-west-1.amazonaws.com/sagemaker-data-wrangler-container:1.3.0\",\"ContainerArguments\":[\"--output-config \\'{\\\\\"82971d23-e4f7-49cd-b4a9-f065d36e01ce.default\\\\\": {\\\\\"content_type\\\\\": \\\\\"CSV\\\\\"}}\\'\"]},\"RoleArn\":\"arn:aws:iam::803235869972:role/bp-autopilot-sm-role\",\"ProcessingInputs\":[{\"InputName\":\"flow\",\"AppManaged\":false,\"S3Input\":{\"S3Uri\":\"s3://bp-workspace-us-west-1-803235869972/automl-blueprint/meta/uci-bank-marketing-dataset.flow\",\"LocalPath\":\"/opt/ml/processing/flow\",\"S3DataType\":\"S3Prefix\",\"S3InputMode\":\"File\",\"S3DataDistributionType\":\"FullyReplicated\",\"S3CompressionType\":\"None\"}},{\"InputName\":\"input_data\",\"AppManaged\":false,\"S3Input\":{\"S3Uri\":\"s3://bp-workspace-us-west-1-803235869972/automl-blueprint/sample-data/bank-marketing/\",\"LocalPath\":\"/opt/ml/processing/input_data\",\"S3DataType\":\"S3Prefix\",\"S3InputMode\":\"File\",\"S3DataDistributionType\":\"FullyReplicated\"}}],\"ProcessingOutputConfig\":{\"Outputs\":[{\"OutputName\":\"82971d23-e4f7-49cd-b4a9-f065d36e01ce.default\",\"S3Output\":{\"S3Uri\":\"s3://bp-workspace-us-west-1-803235869972/automl-blueprint/data/prepped/2021-04-05-20-25-20\",\"LocalPath\":\"/opt/ml/processing/output\",\"S3UploadMode\":\"EndOfJob\"}}]},\"StoppingCondition\":{\"MaxRuntimeInSeconds\":86400}}},\"automl-config\":{\"job_base_name\":\"automl-bp\",\"max_candidates\":\"1\",\"target_name\":\"target\",\"problem_type\":\"BinaryClassification\",\"metric_name\":\"AUC\",\"minimum_performance\":0.9,\"job_name\":\"automl-bp-2021-04-05-20-25-19\",\"data_uri\":\"s3://bp-workspace-us-west-1-803235869972/automl-blueprint/data/prepped/2021-04-05-20-25-20/DataWranglerProcess-2021-04-05-20-25-19/82971d23-e4f7-49cd-b4a9-f065d36e01ce/default\"},\"model-config\":{\"model_base_name\":\"automl-bp-model\",\"instance_type\":\"ml.m5.xlarge\",\"instance_count\":1,\"inference_response_keys\":[\"probability\"],\"model_name\":\"automl-bp-model-2021-04-05-20-25-19\",\"job-results\":{\"job_name\":\"automl-bp-2021-04-05-20-25-19\",\"best-candidate\":{\"name\":\"tuning-job-1-12451a8143294342a3-001-f7ad9b54\",\"objective\":{\"name\":\"validation:auc\",\"value\":0.909820020198822},\"containers\":[{\"Image\":\"746614075791.dkr.ecr.us-west-1.amazonaws.com/sagemaker-sklearn-automl:0.2-1-cpu-py3\",\"ModelDataUrl\":\"s3://bp-workspace-us-west-1-803235869972/automl-blueprint/candidates/automl-bp-2021-04-05-20-25-19/data-processor-models/automl-bp--dpp0-1-6abf4b4509e64f3f937427db6fd661b44fe6e6e408434/output/model.tar.gz\",\"Environment\":{\"AUTOML_TRANSFORM_MODE\":\"feature-transform\",\"SAGEMAKER_DEFAULT_INVOCATIONS_ACCEPT\":\"application/x-recordio-protobuf\",\"SAGEMAKER_PROGRAM\":\"sagemaker_serve\",\"SAGEMAKER_SUBMIT_DIRECTORY\":\"/opt/ml/model/code\"}},{\"Image\":\"746614075791.dkr.ecr.us-west-1.amazonaws.com/sagemaker-xgboost:1.0-1-cpu-py3\",\"ModelDataUrl\":\"s3://bp-workspace-us-west-1-803235869972/automl-blueprint/candidates/automl-bp-2021-04-05-20-25-19/tuning/automl-bp--dpp0-xgb/tuning-job-1-12451a8143294342a3-001-f7ad9b54/output/model.tar.gz\",\"Environment\":{\"MAX_CONTENT_LENGTH\":\"20971520\",\"SAGEMAKER_DEFAULT_INVOCATIONS_ACCEPT\":\"text/csv\",\"SAGEMAKER_INFERENCE_OUTPUT\":\"predicted_label\",\"SAGEMAKER_INFERENCE_SUPPORTED\":\"predicted_label,probability,probabilities\"}},{\"Image\":\"746614075791.dkr.ecr.us-west-1.amazonaws.com/sagemaker-sklearn-automl:0.2-1-cpu-py3\",\"ModelDataUrl\":\"s3://bp-workspace-us-west-1-803235869972/automl-blueprint/candidates/automl-bp-2021-04-05-20-25-19/data-processor-models/automl-bp--dpp0-1-6abf4b4509e64f3f937427db6fd661b44fe6e6e408434/output/model.tar.gz\",\"Environment\":{\"AUTOML_TRANSFORM_MODE\":\"inverse-label-transform\",\"SAGEMAKER_DEFAULT_INVOCATIONS_ACCEPT\":\"text/csv\",\"SAGEMAKER_INFERENCE_INPUT\":\"predicted_label\",\"SAGEMAKER_INFERENCE_OUTPUT\":\"predicted_label\",\"SAGEMAKER_INFERENCE_SUPPORTED\":\"predicted_label,probability,labels,probabilities\",\"SAGEMAKER_PROGRAM\":\"sagemaker_serve\",\"SAGEMAKER_SUBMIT_DIRECTORY\":\"/opt/ml/model/code\"}}]},\"status\":\"Completed\",\"qualified\":true}},\"error-analysis-config\":{\"job_base_name\":\"bp-error-analysis\",\"output_prefix\":\"eval/error\",\"transform-config\":{\"instance_type\":\"ml.m5.xlarge\",\"instance_count\":1,\"strategy\":\"SingleRecord\",\"assemble_with\":\"Line\",\"input_filter\":\"$[:-2]\",\"join_source\":\"Input\",\"output_filter\":\"$[-2,-1]\",\"split_type\":\"Line\"},\"job_name\":\"bp-error-analysis-2021-04-05-20-25-19\"},\"bias-analysis-config\":{\"job_base_name\":\"bp-clarify-bias\",\"output_prefix\":\"eval/bias\",\"instance_type\":\"ml.c5.xlarge\",\"instance_count\":1,\"prediction-config\":{\"label\":null,\"probability\":0,\"probability_threshold\":0.8,\"label_headers\":null},\"bias-config\":{\"label_values_or_threshold\":[1],\"facet_name\":\"age\",\"facet_values_or_threshold\":[30],\"group_name\":\"job\"},\"job_name\":\"bp-clarify-bias-2021-04-05-20-25-19\"},\"xai-config\":{\"job_base_name\":\"bp-clarify-shap\",\"output_prefix\":\"eval/xai\",\"instance_type\":\"ml.c5.xlarge\",\"instance_count\":1,\"shap-config\":{\"num_samples\":1,\"agg_method\":\"mean_abs\"},\"job_name\":\"bp-clarify-shap-2021-04-05-20-25-19\"},\"deployment-config\":{}},\"SdkHttpMetadata\":{\"AllHttpHeaders\":{\"X-Amz-Executed-Version\":[\"$LATEST\"],\"x-amzn-Remapped-Content-Length\":[\"0\"],\"Connection\":[\"keep-alive\"],\"x-amzn-RequestId\":[\"1c05541a-fca8-47ac-902d-7aa779c7673c\"],\"Content-Length\":[\"5894\"],\"Date\":[\"Mon, 05 Apr 2021 21:14:38 GMT\"],\"X-Amzn-Trace-Id\":[\"root=1-606b7db9-5bd86d0720cd660054dc388d;sampled=0\"],\"Content-Type\":[\"application/json\"]},\"HttpHeaders\":{\"Connection\":\"keep-alive\",\"Content-Length\":\"5894\",\"Content-Type\":\"application/json\",\"Date\":\"Mon, 05 Apr 2021 21:14:38 GMT\",\"X-Amz-Executed-Version\":\"$LATEST\",\"x-amzn-Remapped-Content-Length\":\"0\",\"x-amzn-RequestId\":\"1c05541a-fca8-47ac-902d-7aa779c7673c\",\"X-Amzn-Trace-Id\":\"root=1-606b7db9-5bd86d0720cd660054dc388d;sampled=0\"},\"HttpStatusCode\":200},\"SdkResponseMetadata\":{\"RequestId\":\"1c05541a-fca8-47ac-902d-7aa779c7673c\"},\"StatusCode\":200,\"taskresult\":{\"ExecutedVersion\":\"$LATEST\",\"Payload\":{\"security-config\":{\"iam_role\":\"arn:aws:iam::803235869972:role/bp-autopilot-sm-role\"},\"workspace-config\":{\"s3_prefix\":\"automl-blueprint\",\"s3_bucket\":\"bp-workspace-us-west-1-803235869972\"},\"data-config\":{\"raw_in_prefix\":\"automl-blueprint/sample-data/bank-marketing\",\"prepped_out_prefix\":\"automl-blueprint/data/prepped\",\"s3_bucket\":\"bp-workspace-us-west-1-803235869972\"},\"pipeline-config\":{},\"dataprep-config\":{\"definition_file\":\"uci-bank-marketing-dataset.flow\",\"output_node_id\":\"82971d23-e4f7-49cd-b4a9-f065d36e01ce.default\",\"instance_type\":\"ml.m5.4xlarge\",\"instance_count\":1,\"data_version\":1,\"data-wrangler-job-def\":{\"ProcessingJobName\":\"DataWranglerProcess-2021-04-05-20-25-19\",\"ClusterConfig\":{\"InstanceType\":\"ml.m5.4xlarge\",\"InstanceCount\":1,\"VolumeSizeInGB\":30},\"AppSpecification\":{\"ImageUri\":\"926135532090.dkr.ecr.us-west-1.amazonaws.com/sagemaker-data-wrangler-container:1.3.0\",\"ContainerArguments\":[\"--output-config \\'{\\\\\"82971d23-e4f7-49cd-b4a9-f065d36e01ce.default\\\\\": {\\\\\"content_type\\\\\": \\\\\"CSV\\\\\"}}\\'\"]},\"RoleArn\":\"arn:aws:iam::803235869972:role/bp-autopilot-sm-role\",\"ProcessingInputs\":[{\"InputName\":\"flow\",\"AppManaged\":false,\"S3Input\":{\"S3Uri\":\"s3://bp-workspace-us-west-1-803235869972/automl-blueprint/meta/uci-bank-marketing-dataset.flow\",\"LocalPath\":\"/opt/ml/processing/flow\",\"S3DataType\":\"S3Prefix\",\"S3InputMode\":\"File\",\"S3DataDistributionType\":\"FullyReplicated\",\"S3CompressionType\":\"None\"}},{\"InputName\":\"input_data\",\"AppManaged\":false,\"S3Input\":{\"S3Uri\":\"s3://bp-workspace-us-west-1-803235869972/automl-blueprint/sample-data/bank-marketing/\",\"LocalPath\":\"/opt/ml/processing/input_data\",\"S3DataType\":\"S3Prefix\",\"S3InputMode\":\"File\",\"S3DataDistributionType\":\"FullyReplicated\"}}],\"ProcessingOutputConfig\":{\"Outputs\":[{\"OutputName\":\"82971d23-e4f7-49cd-b4a9-f065d36e01ce.default\",\"S3Output\":{\"S3Uri\":\"s3://bp-workspace-us-west-1-803235869972/automl-blueprint/data/prepped/2021-04-05-20-25-20\",\"LocalPath\":\"/opt/ml/processing/output\",\"S3UploadMode\":\"EndOfJob\"}}]},\"StoppingCondition\":{\"MaxRuntimeInSeconds\":86400}}},\"automl-config\":{\"job_base_name\":\"automl-bp\",\"max_candidates\":\"1\",\"target_name\":\"target\",\"problem_type\":\"BinaryClassification\",\"metric_name\":\"AUC\",\"minimum_performance\":0.9,\"job_name\":\"automl-bp-2021-04-05-20-25-19\",\"data_uri\":\"s3://bp-workspace-us-west-1-803235869972/automl-blueprint/data/prepped/2021-04-05-20-25-20/DataWranglerProcess-2021-04-05-20-25-19/82971d23-e4f7-49cd-b4a9-f065d36e01ce/default\"},\"model-config\":{\"model_base_name\":\"automl-bp-model\",\"instance_type\":\"ml.m5.xlarge\",\"instance_count\":1,\"inference_response_keys\":[\"probability\"],\"model_name\":\"automl-bp-model-2021-04-05-20-25-19\",\"job-results\":{\"job_name\":\"automl-bp-2021-04-05-20-25-19\",\"best-candidate\":{\"name\":\"tuning-job-1-12451a8143294342a3-001-f7ad9b54\",\"objective\":{\"name\":\"validation:auc\",\"value\":0.909820020198822},\"containers\":[{\"Image\":\"746614075791.dkr.ecr.us-west-1.amazonaws.com/sagemaker-sklearn-automl:0.2-1-cpu-py3\",\"ModelDataUrl\":\"s3://bp-workspace-us-west-1-803235869972/automl-blueprint/candidates/automl-bp-2021-04-05-20-25-19/data-processor-models/automl-bp--dpp0-1-6abf4b4509e64f3f937427db6fd661b44fe6e6e408434/output/model.tar.gz\",\"Environment\":{\"AUTOML_TRANSFORM_MODE\":\"feature-transform\",\"SAGEMAKER_DEFAULT_INVOCATIONS_ACCEPT\":\"application/x-recordio-protobuf\",\"SAGEMAKER_PROGRAM\":\"sagemaker_serve\",\"SAGEMAKER_SUBMIT_DIRECTORY\":\"/opt/ml/model/code\"}},{\"Image\":\"746614075791.dkr.ecr.us-west-1.amazonaws.com/sagemaker-xgboost:1.0-1-cpu-py3\",\"ModelDataUrl\":\"s3://bp-workspace-us-west-1-803235869972/automl-blueprint/candidates/automl-bp-2021-04-05-20-25-19/tuning/automl-bp--dpp0-xgb/tuning-job-1-12451a8143294342a3-001-f7ad9b54/output/model.tar.gz\",\"Environment\":{\"MAX_CONTENT_LENGTH\":\"20971520\",\"SAGEMAKER_DEFAULT_INVOCATIONS_ACCEPT\":\"text/csv\",\"SAGEMAKER_INFERENCE_OUTPUT\":\"predicted_label\",\"SAGEMAKER_INFERENCE_SUPPORTED\":\"predicted_label,probability,probabilities\"}},{\"Image\":\"746614075791.dkr.ecr.us-west-1.amazonaws.com/sagemaker-sklearn-automl:0.2-1-cpu-py3\",\"ModelDataUrl\":\"s3://bp-workspace-us-west-1-803235869972/automl-blueprint/candidates/automl-bp-2021-04-05-20-25-19/data-processor-models/automl-bp--dpp0-1-6abf4b4509e64f3f937427db6fd661b44fe6e6e408434/output/model.tar.gz\",\"Environment\":{\"AUTOML_TRANSFORM_MODE\":\"inverse-label-transform\",\"SAGEMAKER_DEFAULT_INVOCATIONS_ACCEPT\":\"text/csv\",\"SAGEMAKER_INFERENCE_INPUT\":\"predicted_label\",\"SAGEMAKER_INFERENCE_OUTPUT\":\"predicted_label\",\"SAGEMAKER_INFERENCE_SUPPORTED\":\"predicted_label,probability,labels,probabilities\",\"SAGEMAKER_PROGRAM\":\"sagemaker_serve\",\"SAGEMAKER_SUBMIT_DIRECTORY\":\"/opt/ml/model/code\"}}]},\"status\":\"Completed\",\"qualified\":true}},\"error-analysis-config\":{\"job_base_name\":\"bp-error-analysis\",\"output_prefix\":\"eval/error\",\"transform-config\":{\"instance_type\":\"ml.m5.xlarge\",\"instance_count\":1,\"strategy\":\"SingleRecord\",\"assemble_with\":\"Line\",\"input_filter\":\"$[:-2]\",\"join_source\":\"Input\",\"output_filter\":\"$[-2,-1]\",\"split_type\":\"Line\"},\"job_name\":\"bp-error-analysis-2021-04-05-20-25-19\",\"job-results\":{\"status\":\"Completed\"}},\"bias-analysis-config\":{\"job_base_name\":\"bp-clarify-bias\",\"output_prefix\":\"eval/bias\",\"instance_type\":\"ml.c5.xlarge\",\"instance_count\":1,\"prediction-config\":{\"label\":null,\"probability\":0,\"probability_threshold\":0.8,\"label_headers\":null},\"bias-config\":{\"label_values_or_threshold\":[1],\"facet_name\":\"age\",\"facet_values_or_threshold\":[30],\"group_name\":\"job\"},\"job_name\":\"bp-clarify-bias-2021-04-05-20-25-19\"},\"xai-config\":{\"job_base_name\":\"bp-clarify-shap\",\"output_prefix\":\"eval/xai\",\"instance_type\":\"ml.c5.xlarge\",\"instance_count\":1,\"shap-config\":{\"num_samples\":1,\"agg_method\":\"mean_abs\"},\"job_name\":\"bp-clarify-shap-2021-04-05-20-25-19\"},\"deployment-config\":{}},\"SdkHttpMetadata\":{\"AllHttpHeaders\":{\"X-Amz-Executed-Version\":[\"$LATEST\"],\"x-amzn-Remapped-Content-Length\":[\"0\"],\"Connection\":[\"keep-alive\"],\"x-amzn-RequestId\":[\"cc0602ff-403a-4e9a-ada9-95d36dee7fd3\"],\"Content-Length\":[\"5934\"],\"Date\":[\"Mon, 05 Apr 2021 21:35:48 GMT\"],\"X-Amzn-Trace-Id\":[\"root=1-606b82b0-66c0783c47f0e0bf5340effc;sampled=0\"],\"Content-Type\":[\"application/json\"]},\"HttpHeaders\":{\"Connection\":\"keep-alive\",\"Content-Length\":\"5934\",\"Content-Type\":\"application/json\",\"Date\":\"Mon, 05 Apr 2021 21:35:48 GMT\",\"X-Amz-Executed-Version\":\"$LATEST\",\"x-amzn-Remapped-Content-Length\":\"0\",\"x-amzn-RequestId\":\"cc0602ff-403a-4e9a-ada9-95d36dee7fd3\",\"X-Amzn-Trace-Id\":\"root=1-606b82b0-66c0783c47f0e0bf5340effc;sampled=0\"},\"HttpStatusCode\":200},\"SdkResponseMetadata\":{\"RequestId\":\"cc0602ff-403a-4e9a-ada9-95d36dee7fd3\"},\"StatusCode\":200}},{\"ExecutedVersion\":\"$LATEST\",\"Payload\":{\"security-config\":{\"iam_role\":\"arn:aws:iam::803235869972:role/bp-autopilot-sm-role\"},\"workspace-config\":{\"s3_prefix\":\"automl-blueprint\",\"s3_bucket\":\"bp-workspace-us-west-1-803235869972\"},\"data-config\":{\"raw_in_prefix\":\"automl-blueprint/sample-data/bank-marketing\",\"prepped_out_prefix\":\"automl-blueprint/data/prepped\",\"s3_bucket\":\"bp-workspace-us-west-1-803235869972\"},\"pipeline-config\":{},\"dataprep-config\":{\"definition_file\":\"uci-bank-marketing-dataset.flow\",\"output_node_id\":\"82971d23-e4f7-49cd-b4a9-f065d36e01ce.default\",\"instance_type\":\"ml.m5.4xlarge\",\"instance_count\":1,\"data_version\":1,\"data-wrangler-job-def\":{\"ProcessingJobName\":\"DataWranglerProcess-2021-04-05-20-25-19\",\"ClusterConfig\":{\"InstanceType\":\"ml.m5.4xlarge\",\"InstanceCount\":1,\"VolumeSizeInGB\":30},\"AppSpecification\":{\"ImageUri\":\"926135532090.dkr.ecr.us-west-1.amazonaws.com/sagemaker-data-wrangler-container:1.3.0\",\"ContainerArguments\":[\"--output-config \\'{\\\\\"82971d23-e4f7-49cd-b4a9-f065d36e01ce.default\\\\\": {\\\\\"content_type\\\\\": \\\\\"CSV\\\\\"}}\\'\"]},\"RoleArn\":\"arn:aws:iam::803235869972:role/bp-autopilot-sm-role\",\"ProcessingInputs\":[{\"InputName\":\"flow\",\"AppManaged\":false,\"S3Input\":{\"S3Uri\":\"s3://bp-workspace-us-west-1-803235869972/automl-blueprint/meta/uci-bank-marketing-dataset.flow\",\"LocalPath\":\"/opt/ml/processing/flow\",\"S3DataType\":\"S3Prefix\",\"S3InputMode\":\"File\",\"S3DataDistributionType\":\"FullyReplicated\",\"S3CompressionType\":\"None\"}},{\"InputName\":\"input_data\",\"AppManaged\":false,\"S3Input\":{\"S3Uri\":\"s3://bp-workspace-us-west-1-803235869972/automl-blueprint/sample-data/bank-marketing/\",\"LocalPath\":\"/opt/ml/processing/input_data\",\"S3DataType\":\"S3Prefix\",\"S3InputMode\":\"File\",\"S3DataDistributionType\":\"FullyReplicated\"}}],\"ProcessingOutputConfig\":{\"Outputs\":[{\"OutputName\":\"82971d23-e4f7-49cd-b4a9-f065d36e01ce.default\",\"S3Output\":{\"S3Uri\":\"s3://bp-workspace-us-west-1-803235869972/automl-blueprint/data/prepped/2021-04-05-20-25-20\",\"LocalPath\":\"/opt/ml/processing/output\",\"S3UploadMode\":\"EndOfJob\"}}]},\"StoppingCondition\":{\"MaxRuntimeInSeconds\":86400}}},\"automl-config\":{\"job_base_name\":\"automl-bp\",\"max_candidates\":\"1\",\"target_name\":\"target\",\"problem_type\":\"BinaryClassification\",\"metric_name\":\"AUC\",\"minimum_performance\":0.9,\"job_name\":\"automl-bp-2021-04-05-20-25-19\",\"data_uri\":\"s3://bp-workspace-us-west-1-803235869972/automl-blueprint/data/prepped/2021-04-05-20-25-20/DataWranglerProcess-2021-04-05-20-25-19/82971d23-e4f7-49cd-b4a9-f065d36e01ce/default\"},\"model-config\":{\"model_base_name\":\"automl-bp-model\",\"instance_type\":\"ml.m5.xlarge\",\"instance_count\":1,\"inference_response_keys\":[\"probability\"],\"model_name\":\"automl-bp-model-2021-04-05-20-25-19\",\"job-results\":{\"job_name\":\"automl-bp-2021-04-05-20-25-19\",\"best-candidate\":{\"name\":\"tuning-job-1-12451a8143294342a3-001-f7ad9b54\",\"objective\":{\"name\":\"validation:auc\",\"value\":0.909820020198822},\"containers\":[{\"Image\":\"746614075791.dkr.ecr.us-west-1.amazonaws.com/sagemaker-sklearn-automl:0.2-1-cpu-py3\",\"ModelDataUrl\":\"s3://bp-workspace-us-west-1-803235869972/automl-blueprint/candidates/automl-bp-2021-04-05-20-25-19/data-processor-models/automl-bp--dpp0-1-6abf4b4509e64f3f937427db6fd661b44fe6e6e408434/output/model.tar.gz\",\"Environment\":{\"AUTOML_TRANSFORM_MODE\":\"feature-transform\",\"SAGEMAKER_DEFAULT_INVOCATIONS_ACCEPT\":\"application/x-recordio-protobuf\",\"SAGEMAKER_PROGRAM\":\"sagemaker_serve\",\"SAGEMAKER_SUBMIT_DIRECTORY\":\"/opt/ml/model/code\"}},{\"Image\":\"746614075791.dkr.ecr.us-west-1.amazonaws.com/sagemaker-xgboost:1.0-1-cpu-py3\",\"ModelDataUrl\":\"s3://bp-workspace-us-west-1-803235869972/automl-blueprint/candidates/automl-bp-2021-04-05-20-25-19/tuning/automl-bp--dpp0-xgb/tuning-job-1-12451a8143294342a3-001-f7ad9b54/output/model.tar.gz\",\"Environment\":{\"MAX_CONTENT_LENGTH\":\"20971520\",\"SAGEMAKER_DEFAULT_INVOCATIONS_ACCEPT\":\"text/csv\",\"SAGEMAKER_INFERENCE_OUTPUT\":\"predicted_label\",\"SAGEMAKER_INFERENCE_SUPPORTED\":\"predicted_label,probability,probabilities\"}},{\"Image\":\"746614075791.dkr.ecr.us-west-1.amazonaws.com/sagemaker-sklearn-automl:0.2-1-cpu-py3\",\"ModelDataUrl\":\"s3://bp-workspace-us-west-1-803235869972/automl-blueprint/candidates/automl-bp-2021-04-05-20-25-19/data-processor-models/automl-bp--dpp0-1-6abf4b4509e64f3f937427db6fd661b44fe6e6e408434/output/model.tar.gz\",\"Environment\":{\"AUTOML_TRANSFORM_MODE\":\"inverse-label-transform\",\"SAGEMAKER_DEFAULT_INVOCATIONS_ACCEPT\":\"text/csv\",\"SAGEMAKER_INFERENCE_INPUT\":\"predicted_label\",\"SAGEMAKER_INFERENCE_OUTPUT\":\"predicted_label\",\"SAGEMAKER_INFERENCE_SUPPORTED\":\"predicted_label,probability,labels,probabilities\",\"SAGEMAKER_PROGRAM\":\"sagemaker_serve\",\"SAGEMAKER_SUBMIT_DIRECTORY\":\"/opt/ml/model/code\"}}]},\"status\":\"Completed\",\"qualified\":true}},\"error-analysis-config\":{\"job_base_name\":\"bp-error-analysis\",\"output_prefix\":\"eval/error\",\"transform-config\":{\"instance_type\":\"ml.m5.xlarge\",\"instance_count\":1,\"strategy\":\"SingleRecord\",\"assemble_with\":\"Line\",\"input_filter\":\"$[:-2]\",\"join_source\":\"Input\",\"output_filter\":\"$[-2,-1]\",\"split_type\":\"Line\"},\"job_name\":\"bp-error-analysis-2021-04-05-20-25-19\"},\"bias-analysis-config\":{\"job_base_name\":\"bp-clarify-bias\",\"output_prefix\":\"eval/bias\",\"instance_type\":\"ml.c5.xlarge\",\"instance_count\":1,\"prediction-config\":{\"label\":null,\"probability\":0,\"probability_threshold\":0.8,\"label_headers\":null},\"bias-config\":{\"label_values_or_threshold\":[1],\"facet_name\":\"age\",\"facet_values_or_threshold\":[30],\"group_name\":\"job\"},\"job_name\":\"bp-clarify-bias-2021-04-05-20-25-19\"},\"xai-config\":{\"job_base_name\":\"bp-clarify-shap\",\"output_prefix\":\"eval/xai\",\"instance_type\":\"ml.c5.xlarge\",\"instance_count\":1,\"shap-config\":{\"num_samples\":1,\"agg_method\":\"mean_abs\"},\"job_name\":\"bp-clarify-shap-2021-04-05-20-25-19\"},\"deployment-config\":{}},\"SdkHttpMetadata\":{\"AllHttpHeaders\":{\"X-Amz-Executed-Version\":[\"$LATEST\"],\"x-amzn-Remapped-Content-Length\":[\"0\"],\"Connection\":[\"keep-alive\"],\"x-amzn-RequestId\":[\"1c05541a-fca8-47ac-902d-7aa779c7673c\"],\"Content-Length\":[\"5894\"],\"Date\":[\"Mon, 05 Apr 2021 21:14:38 GMT\"],\"X-Amzn-Trace-Id\":[\"root=1-606b7db9-5bd86d0720cd660054dc388d;sampled=0\"],\"Content-Type\":[\"application/json\"]},\"HttpHeaders\":{\"Connection\":\"keep-alive\",\"Content-Length\":\"5894\",\"Content-Type\":\"application/json\",\"Date\":\"Mon, 05 Apr 2021 21:14:38 GMT\",\"X-Amz-Executed-Version\":\"$LATEST\",\"x-amzn-Remapped-Content-Length\":\"0\",\"x-amzn-RequestId\":\"1c05541a-fca8-47ac-902d-7aa779c7673c\",\"X-Amzn-Trace-Id\":\"root=1-606b7db9-5bd86d0720cd660054dc388d;sampled=0\"},\"HttpStatusCode\":200},\"SdkResponseMetadata\":{\"RequestId\":\"1c05541a-fca8-47ac-902d-7aa779c7673c\"},\"StatusCode\":200,\"taskresult\":{\"ExecutedVersion\":\"$LATEST\",\"Payload\":{\"security-config\":{\"iam_role\":\"arn:aws:iam::803235869972:role/bp-autopilot-sm-role\"},\"workspace-config\":{\"s3_prefix\":\"automl-blueprint\",\"s3_bucket\":\"bp-workspace-us-west-1-803235869972\"},\"data-config\":{\"raw_in_prefix\":\"automl-blueprint/sample-data/bank-marketing\",\"prepped_out_prefix\":\"automl-blueprint/data/prepped\",\"s3_bucket\":\"bp-workspace-us-west-1-803235869972\"},\"pipeline-config\":{},\"dataprep-config\":{\"definition_file\":\"uci-bank-marketing-dataset.flow\",\"output_node_id\":\"82971d23-e4f7-49cd-b4a9-f065d36e01ce.default\",\"instance_type\":\"ml.m5.4xlarge\",\"instance_count\":1,\"data_version\":1,\"data-wrangler-job-def\":{\"ProcessingJobName\":\"DataWranglerProcess-2021-04-05-20-25-19\",\"ClusterConfig\":{\"InstanceType\":\"ml.m5.4xlarge\",\"InstanceCount\":1,\"VolumeSizeInGB\":30},\"AppSpecification\":{\"ImageUri\":\"926135532090.dkr.ecr.us-west-1.amazonaws.com/sagemaker-data-wrangler-container:1.3.0\",\"ContainerArguments\":[\"--output-config \\'{\\\\\"82971d23-e4f7-49cd-b4a9-f065d36e01ce.default\\\\\": {\\\\\"content_type\\\\\": \\\\\"CSV\\\\\"}}\\'\"]},\"RoleArn\":\"arn:aws:iam::803235869972:role/bp-autopilot-sm-role\",\"ProcessingInputs\":[{\"InputName\":\"flow\",\"AppManaged\":false,\"S3Input\":{\"S3Uri\":\"s3://bp-workspace-us-west-1-803235869972/automl-blueprint/meta/uci-bank-marketing-dataset.flow\",\"LocalPath\":\"/opt/ml/processing/flow\",\"S3DataType\":\"S3Prefix\",\"S3InputMode\":\"File\",\"S3DataDistributionType\":\"FullyReplicated\",\"S3CompressionType\":\"None\"}},{\"InputName\":\"input_data\",\"AppManaged\":false,\"S3Input\":{\"S3Uri\":\"s3://bp-workspace-us-west-1-803235869972/automl-blueprint/sample-data/bank-marketing/\",\"LocalPath\":\"/opt/ml/processing/input_data\",\"S3DataType\":\"S3Prefix\",\"S3InputMode\":\"File\",\"S3DataDistributionType\":\"FullyReplicated\"}}],\"ProcessingOutputConfig\":{\"Outputs\":[{\"OutputName\":\"82971d23-e4f7-49cd-b4a9-f065d36e01ce.default\",\"S3Output\":{\"S3Uri\":\"s3://bp-workspace-us-west-1-803235869972/automl-blueprint/data/prepped/2021-04-05-20-25-20\",\"LocalPath\":\"/opt/ml/processing/output\",\"S3UploadMode\":\"EndOfJob\"}}]},\"StoppingCondition\":{\"MaxRuntimeInSeconds\":86400}}},\"automl-config\":{\"job_base_name\":\"automl-bp\",\"max_candidates\":\"1\",\"target_name\":\"target\",\"problem_type\":\"BinaryClassification\",\"metric_name\":\"AUC\",\"minimum_performance\":0.9,\"job_name\":\"automl-bp-2021-04-05-20-25-19\",\"data_uri\":\"s3://bp-workspace-us-west-1-803235869972/automl-blueprint/data/prepped/2021-04-05-20-25-20/DataWranglerProcess-2021-04-05-20-25-19/82971d23-e4f7-49cd-b4a9-f065d36e01ce/default\"},\"model-config\":{\"model_base_name\":\"automl-bp-model\",\"instance_type\":\"ml.m5.xlarge\",\"instance_count\":1,\"inference_response_keys\":[\"probability\"],\"model_name\":\"automl-bp-model-2021-04-05-20-25-19\",\"job-results\":{\"job_name\":\"automl-bp-2021-04-05-20-25-19\",\"best-candidate\":{\"name\":\"tuning-job-1-12451a8143294342a3-001-f7ad9b54\",\"objective\":{\"name\":\"validation:auc\",\"value\":0.909820020198822},\"containers\":[{\"Image\":\"746614075791.dkr.ecr.us-west-1.amazonaws.com/sagemaker-sklearn-automl:0.2-1-cpu-py3\",\"ModelDataUrl\":\"s3://bp-workspace-us-west-1-803235869972/automl-blueprint/candidates/automl-bp-2021-04-05-20-25-19/data-processor-models/automl-bp--dpp0-1-6abf4b4509e64f3f937427db6fd661b44fe6e6e408434/output/model.tar.gz\",\"Environment\":{\"AUTOML_TRANSFORM_MODE\":\"feature-transform\",\"SAGEMAKER_DEFAULT_INVOCATIONS_ACCEPT\":\"application/x-recordio-protobuf\",\"SAGEMAKER_PROGRAM\":\"sagemaker_serve\",\"SAGEMAKER_SUBMIT_DIRECTORY\":\"/opt/ml/model/code\"}},{\"Image\":\"746614075791.dkr.ecr.us-west-1.amazonaws.com/sagemaker-xgboost:1.0-1-cpu-py3\",\"ModelDataUrl\":\"s3://bp-workspace-us-west-1-803235869972/automl-blueprint/candidates/automl-bp-2021-04-05-20-25-19/tuning/automl-bp--dpp0-xgb/tuning-job-1-12451a8143294342a3-001-f7ad9b54/output/model.tar.gz\",\"Environment\":{\"MAX_CONTENT_LENGTH\":\"20971520\",\"SAGEMAKER_DEFAULT_INVOCATIONS_ACCEPT\":\"text/csv\",\"SAGEMAKER_INFERENCE_OUTPUT\":\"predicted_label\",\"SAGEMAKER_INFERENCE_SUPPORTED\":\"predicted_label,probability,probabilities\"}},{\"Image\":\"746614075791.dkr.ecr.us-west-1.amazonaws.com/sagemaker-sklearn-automl:0.2-1-cpu-py3\",\"ModelDataUrl\":\"s3://bp-workspace-us-west-1-803235869972/automl-blueprint/candidates/automl-bp-2021-04-05-20-25-19/data-processor-models/automl-bp--dpp0-1-6abf4b4509e64f3f937427db6fd661b44fe6e6e408434/output/model.tar.gz\",\"Environment\":{\"AUTOML_TRANSFORM_MODE\":\"inverse-label-transform\",\"SAGEMAKER_DEFAULT_INVOCATIONS_ACCEPT\":\"text/csv\",\"SAGEMAKER_INFERENCE_INPUT\":\"predicted_label\",\"SAGEMAKER_INFERENCE_OUTPUT\":\"predicted_label\",\"SAGEMAKER_INFERENCE_SUPPORTED\":\"predicted_label,probability,labels,probabilities\",\"SAGEMAKER_PROGRAM\":\"sagemaker_serve\",\"SAGEMAKER_SUBMIT_DIRECTORY\":\"/opt/ml/model/code\"}}]},\"status\":\"Completed\",\"qualified\":true}},\"error-analysis-config\":{\"job_base_name\":\"bp-error-analysis\",\"output_prefix\":\"eval/error\",\"transform-config\":{\"instance_type\":\"ml.m5.xlarge\",\"instance_count\":1,\"strategy\":\"SingleRecord\",\"assemble_with\":\"Line\",\"input_filter\":\"$[:-2]\",\"join_source\":\"Input\",\"output_filter\":\"$[-2,-1]\",\"split_type\":\"Line\"},\"job_name\":\"bp-error-analysis-2021-04-05-20-25-19\"},\"bias-analysis-config\":{\"job_base_name\":\"bp-clarify-bias\",\"output_prefix\":\"eval/bias\",\"instance_type\":\"ml.c5.xlarge\",\"instance_count\":1,\"prediction-config\":{\"label\":null,\"probability\":0,\"probability_threshold\":0.8,\"label_headers\":null},\"bias-config\":{\"label_values_or_threshold\":[1],\"facet_name\":\"age\",\"facet_values_or_threshold\":[30],\"group_name\":\"job\"},\"job_name\":\"bp-clarify-bias-2021-04-05-20-25-19\",\"job-results\":{\"status\":\"Completed\"}},\"xai-config\":{\"job_base_name\":\"bp-clarify-shap\",\"output_prefix\":\"eval/xai\",\"instance_type\":\"ml.c5.xlarge\",\"instance_count\":1,\"shap-config\":{\"num_samples\":1,\"agg_method\":\"mean_abs\"},\"job_name\":\"bp-clarify-shap-2021-04-05-20-25-19\"},\"deployment-config\":{}},\"SdkHttpMetadata\":{\"AllHttpHeaders\":{\"X-Amz-Executed-Version\":[\"$LATEST\"],\"x-amzn-Remapped-Content-Length\":[\"0\"],\"Connection\":[\"keep-alive\"],\"x-amzn-RequestId\":[\"22c740b0-4802-494f-b929-291184e843fd\"],\"Content-Length\":[\"5934\"],\"Date\":[\"Mon, 05 Apr 2021 21:36:04 GMT\"],\"X-Amzn-Trace-Id\":[\"root=1-606b82c1-7c8ed18318c0d90769c9de0d;sampled=0\"],\"Content-Type\":[\"application/json\"]},\"HttpHeaders\":{\"Connection\":\"keep-alive\",\"Content-Length\":\"5934\",\"Content-Type\":\"application/json\",\"Date\":\"Mon, 05 Apr 2021 21:36:04 GMT\",\"X-Amz-Executed-Version\":\"$LATEST\",\"x-amzn-Remapped-Content-Length\":\"0\",\"x-amzn-RequestId\":\"22c740b0-4802-494f-b929-291184e843fd\",\"X-Amzn-Trace-Id\":\"root=1-606b82c1-7c8ed18318c0d90769c9de0d;sampled=0\"},\"HttpStatusCode\":200},\"SdkResponseMetadata\":{\"RequestId\":\"22c740b0-4802-494f-b929-291184e843fd\"},\"StatusCode\":200}},{\"ExecutedVersion\":\"$LATEST\",\"Payload\":{\"security-config\":{\"iam_role\":\"arn:aws:iam::803235869972:role/bp-autopilot-sm-role\"},\"workspace-config\":{\"s3_prefix\":\"automl-blueprint\",\"s3_bucket\":\"bp-workspace-us-west-1-803235869972\"},\"data-config\":{\"raw_in_prefix\":\"automl-blueprint/sample-data/bank-marketing\",\"prepped_out_prefix\":\"automl-blueprint/data/prepped\",\"s3_bucket\":\"bp-workspace-us-west-1-803235869972\"},\"pipeline-config\":{},\"dataprep-config\":{\"definition_file\":\"uci-bank-marketing-dataset.flow\",\"output_node_id\":\"82971d23-e4f7-49cd-b4a9-f065d36e01ce.default\",\"instance_type\":\"ml.m5.4xlarge\",\"instance_count\":1,\"data_version\":1,\"data-wrangler-job-def\":{\"ProcessingJobName\":\"DataWranglerProcess-2021-04-05-20-25-19\",\"ClusterConfig\":{\"InstanceType\":\"ml.m5.4xlarge\",\"InstanceCount\":1,\"VolumeSizeInGB\":30},\"AppSpecification\":{\"ImageUri\":\"926135532090.dkr.ecr.us-west-1.amazonaws.com/sagemaker-data-wrangler-container:1.3.0\",\"ContainerArguments\":[\"--output-config \\'{\\\\\"82971d23-e4f7-49cd-b4a9-f065d36e01ce.default\\\\\": {\\\\\"content_type\\\\\": \\\\\"CSV\\\\\"}}\\'\"]},\"RoleArn\":\"arn:aws:iam::803235869972:role/bp-autopilot-sm-role\",\"ProcessingInputs\":[{\"InputName\":\"flow\",\"AppManaged\":false,\"S3Input\":{\"S3Uri\":\"s3://bp-workspace-us-west-1-803235869972/automl-blueprint/meta/uci-bank-marketing-dataset.flow\",\"LocalPath\":\"/opt/ml/processing/flow\",\"S3DataType\":\"S3Prefix\",\"S3InputMode\":\"File\",\"S3DataDistributionType\":\"FullyReplicated\",\"S3CompressionType\":\"None\"}},{\"InputName\":\"input_data\",\"AppManaged\":false,\"S3Input\":{\"S3Uri\":\"s3://bp-workspace-us-west-1-803235869972/automl-blueprint/sample-data/bank-marketing/\",\"LocalPath\":\"/opt/ml/processing/input_data\",\"S3DataType\":\"S3Prefix\",\"S3InputMode\":\"File\",\"S3DataDistributionType\":\"FullyReplicated\"}}],\"ProcessingOutputConfig\":{\"Outputs\":[{\"OutputName\":\"82971d23-e4f7-49cd-b4a9-f065d36e01ce.default\",\"S3Output\":{\"S3Uri\":\"s3://bp-workspace-us-west-1-803235869972/automl-blueprint/data/prepped/2021-04-05-20-25-20\",\"LocalPath\":\"/opt/ml/processing/output\",\"S3UploadMode\":\"EndOfJob\"}}]},\"StoppingCondition\":{\"MaxRuntimeInSeconds\":86400}}},\"automl-config\":{\"job_base_name\":\"automl-bp\",\"max_candidates\":\"1\",\"target_name\":\"target\",\"problem_type\":\"BinaryClassification\",\"metric_name\":\"AUC\",\"minimum_performance\":0.9,\"job_name\":\"automl-bp-2021-04-05-20-25-19\",\"data_uri\":\"s3://bp-workspace-us-west-1-803235869972/automl-blueprint/data/prepped/2021-04-05-20-25-20/DataWranglerProcess-2021-04-05-20-25-19/82971d23-e4f7-49cd-b4a9-f065d36e01ce/default\"},\"model-config\":{\"model_base_name\":\"automl-bp-model\",\"instance_type\":\"ml.m5.xlarge\",\"instance_count\":1,\"inference_response_keys\":[\"probability\"],\"model_name\":\"automl-bp-model-2021-04-05-20-25-19\",\"job-results\":{\"job_name\":\"automl-bp-2021-04-05-20-25-19\",\"best-candidate\":{\"name\":\"tuning-job-1-12451a8143294342a3-001-f7ad9b54\",\"objective\":{\"name\":\"validation:auc\",\"value\":0.909820020198822},\"containers\":[{\"Image\":\"746614075791.dkr.ecr.us-west-1.amazonaws.com/sagemaker-sklearn-automl:0.2-1-cpu-py3\",\"ModelDataUrl\":\"s3://bp-workspace-us-west-1-803235869972/automl-blueprint/candidates/automl-bp-2021-04-05-20-25-19/data-processor-models/automl-bp--dpp0-1-6abf4b4509e64f3f937427db6fd661b44fe6e6e408434/output/model.tar.gz\",\"Environment\":{\"AUTOML_TRANSFORM_MODE\":\"feature-transform\",\"SAGEMAKER_DEFAULT_INVOCATIONS_ACCEPT\":\"application/x-recordio-protobuf\",\"SAGEMAKER_PROGRAM\":\"sagemaker_serve\",\"SAGEMAKER_SUBMIT_DIRECTORY\":\"/opt/ml/model/code\"}},{\"Image\":\"746614075791.dkr.ecr.us-west-1.amazonaws.com/sagemaker-xgboost:1.0-1-cpu-py3\",\"ModelDataUrl\":\"s3://bp-workspace-us-west-1-803235869972/automl-blueprint/candidates/automl-bp-2021-04-05-20-25-19/tuning/automl-bp--dpp0-xgb/tuning-job-1-12451a8143294342a3-001-f7ad9b54/output/model.tar.gz\",\"Environment\":{\"MAX_CONTENT_LENGTH\":\"20971520\",\"SAGEMAKER_DEFAULT_INVOCATIONS_ACCEPT\":\"text/csv\",\"SAGEMAKER_INFERENCE_OUTPUT\":\"predicted_label\",\"SAGEMAKER_INFERENCE_SUPPORTED\":\"predicted_label,probability,probabilities\"}},{\"Image\":\"746614075791.dkr.ecr.us-west-1.amazonaws.com/sagemaker-sklearn-automl:0.2-1-cpu-py3\",\"ModelDataUrl\":\"s3://bp-workspace-us-west-1-803235869972/automl-blueprint/candidates/automl-bp-2021-04-05-20-25-19/data-processor-models/automl-bp--dpp0-1-6abf4b4509e64f3f937427db6fd661b44fe6e6e408434/output/model.tar.gz\",\"Environment\":{\"AUTOML_TRANSFORM_MODE\":\"inverse-label-transform\",\"SAGEMAKER_DEFAULT_INVOCATIONS_ACCEPT\":\"text/csv\",\"SAGEMAKER_INFERENCE_INPUT\":\"predicted_label\",\"SAGEMAKER_INFERENCE_OUTPUT\":\"predicted_label\",\"SAGEMAKER_INFERENCE_SUPPORTED\":\"predicted_label,probability,labels,probabilities\",\"SAGEMAKER_PROGRAM\":\"sagemaker_serve\",\"SAGEMAKER_SUBMIT_DIRECTORY\":\"/opt/ml/model/code\"}}]},\"status\":\"Completed\",\"qualified\":true}},\"error-analysis-config\":{\"job_base_name\":\"bp-error-analysis\",\"output_prefix\":\"eval/error\",\"transform-config\":{\"instance_type\":\"ml.m5.xlarge\",\"instance_count\":1,\"strategy\":\"SingleRecord\",\"assemble_with\":\"Line\",\"input_filter\":\"$[:-2]\",\"join_source\":\"Input\",\"output_filter\":\"$[-2,-1]\",\"split_type\":\"Line\"},\"job_name\":\"bp-error-analysis-2021-04-05-20-25-19\"},\"bias-analysis-config\":{\"job_base_name\":\"bp-clarify-bias\",\"output_prefix\":\"eval/bias\",\"instance_type\":\"ml.c5.xlarge\",\"instance_count\":1,\"prediction-config\":{\"label\":null,\"probability\":0,\"probability_threshold\":0.8,\"label_headers\":null},\"bias-config\":{\"label_values_or_threshold\":[1],\"facet_name\":\"age\",\"facet_values_or_threshold\":[30],\"group_name\":\"job\"},\"job_name\":\"bp-clarify-bias-2021-04-05-20-25-19\"},\"xai-config\":{\"job_base_name\":\"bp-clarify-shap\",\"output_prefix\":\"eval/xai\",\"instance_type\":\"ml.c5.xlarge\",\"instance_count\":1,\"shap-config\":{\"num_samples\":1,\"agg_method\":\"mean_abs\"},\"job_name\":\"bp-clarify-shap-2021-04-05-20-25-19\"},\"deployment-config\":{}},\"SdkHttpMetadata\":{\"AllHttpHeaders\":{\"X-Amz-Executed-Version\":[\"$LATEST\"],\"x-amzn-Remapped-Content-Length\":[\"0\"],\"Connection\":[\"keep-alive\"],\"x-amzn-RequestId\":[\"1c05541a-fca8-47ac-902d-7aa779c7673c\"],\"Content-Length\":[\"5894\"],\"Date\":[\"Mon, 05 Apr 2021 21:14:38 GMT\"],\"X-Amzn-Trace-Id\":[\"root=1-606b7db9-5bd86d0720cd660054dc388d;sampled=0\"],\"Content-Type\":[\"application/json\"]},\"HttpHeaders\":{\"Connection\":\"keep-alive\",\"Content-Length\":\"5894\",\"Content-Type\":\"application/json\",\"Date\":\"Mon, 05 Apr 2021 21:14:38 GMT\",\"X-Amz-Executed-Version\":\"$LATEST\",\"x-amzn-Remapped-Content-Length\":\"0\",\"x-amzn-RequestId\":\"1c05541a-fca8-47ac-902d-7aa779c7673c\",\"X-Amzn-Trace-Id\":\"root=1-606b7db9-5bd86d0720cd660054dc388d;sampled=0\"},\"HttpStatusCode\":200},\"SdkResponseMetadata\":{\"RequestId\":\"1c05541a-fca8-47ac-902d-7aa779c7673c\"},\"StatusCode\":200,\"taskresult\":{\"ExecutedVersion\":\"$LATEST\",\"Payload\":{\"security-config\":{\"iam_role\":\"arn:aws:iam::803235869972:role/bp-autopilot-sm-role\"},\"workspace-config\":{\"s3_prefix\":\"automl-blueprint\",\"s3_bucket\":\"bp-workspace-us-west-1-803235869972\"},\"data-config\":{\"raw_in_prefix\":\"automl-blueprint/sample-data/bank-marketing\",\"prepped_out_prefix\":\"automl-blueprint/data/prepped\",\"s3_bucket\":\"bp-workspace-us-west-1-803235869972\"},\"pipeline-config\":{},\"dataprep-config\":{\"definition_file\":\"uci-bank-marketing-dataset.flow\",\"output_node_id\":\"82971d23-e4f7-49cd-b4a9-f065d36e01ce.default\",\"instance_type\":\"ml.m5.4xlarge\",\"instance_count\":1,\"data_version\":1,\"data-wrangler-job-def\":{\"ProcessingJobName\":\"DataWranglerProcess-2021-04-05-20-25-19\",\"ClusterConfig\":{\"InstanceType\":\"ml.m5.4xlarge\",\"InstanceCount\":1,\"VolumeSizeInGB\":30},\"AppSpecification\":{\"ImageUri\":\"926135532090.dkr.ecr.us-west-1.amazonaws.com/sagemaker-data-wrangler-container:1.3.0\",\"ContainerArguments\":[\"--output-config \\'{\\\\\"82971d23-e4f7-49cd-b4a9-f065d36e01ce.default\\\\\": {\\\\\"content_type\\\\\": \\\\\"CSV\\\\\"}}\\'\"]},\"RoleArn\":\"arn:aws:iam::803235869972:role/bp-autopilot-sm-role\",\"ProcessingInputs\":[{\"InputName\":\"flow\",\"AppManaged\":false,\"S3Input\":{\"S3Uri\":\"s3://bp-workspace-us-west-1-803235869972/automl-blueprint/meta/uci-bank-marketing-dataset.flow\",\"LocalPath\":\"/opt/ml/processing/flow\",\"S3DataType\":\"S3Prefix\",\"S3InputMode\":\"File\",\"S3DataDistributionType\":\"FullyReplicated\",\"S3CompressionType\":\"None\"}},{\"InputName\":\"input_data\",\"AppManaged\":false,\"S3Input\":{\"S3Uri\":\"s3://bp-workspace-us-west-1-803235869972/automl-blueprint/sample-data/bank-marketing/\",\"LocalPath\":\"/opt/ml/processing/input_data\",\"S3DataType\":\"S3Prefix\",\"S3InputMode\":\"File\",\"S3DataDistributionType\":\"FullyReplicated\"}}],\"ProcessingOutputConfig\":{\"Outputs\":[{\"OutputName\":\"82971d23-e4f7-49cd-b4a9-f065d36e01ce.default\",\"S3Output\":{\"S3Uri\":\"s3://bp-workspace-us-west-1-803235869972/automl-blueprint/data/prepped/2021-04-05-20-25-20\",\"LocalPath\":\"/opt/ml/processing/output\",\"S3UploadMode\":\"EndOfJob\"}}]},\"StoppingCondition\":{\"MaxRuntimeInSeconds\":86400}}},\"automl-config\":{\"job_base_name\":\"automl-bp\",\"max_candidates\":\"1\",\"target_name\":\"target\",\"problem_type\":\"BinaryClassification\",\"metric_name\":\"AUC\",\"minimum_performance\":0.9,\"job_name\":\"automl-bp-2021-04-05-20-25-19\",\"data_uri\":\"s3://bp-workspace-us-west-1-803235869972/automl-blueprint/data/prepped/2021-04-05-20-25-20/DataWranglerProcess-2021-04-05-20-25-19/82971d23-e4f7-49cd-b4a9-f065d36e01ce/default\"},\"model-config\":{\"model_base_name\":\"automl-bp-model\",\"instance_type\":\"ml.m5.xlarge\",\"instance_count\":1,\"inference_response_keys\":[\"probability\"],\"model_name\":\"automl-bp-model-2021-04-05-20-25-19\",\"job-results\":{\"job_name\":\"automl-bp-2021-04-05-20-25-19\",\"best-candidate\":{\"name\":\"tuning-job-1-12451a8143294342a3-001-f7ad9b54\",\"objective\":{\"name\":\"validation:auc\",\"value\":0.909820020198822},\"containers\":[{\"Image\":\"746614075791.dkr.ecr.us-west-1.amazonaws.com/sagemaker-sklearn-automl:0.2-1-cpu-py3\",\"ModelDataUrl\":\"s3://bp-workspace-us-west-1-803235869972/automl-blueprint/candidates/automl-bp-2021-04-05-20-25-19/data-processor-models/automl-bp--dpp0-1-6abf4b4509e64f3f937427db6fd661b44fe6e6e408434/output/model.tar.gz\",\"Environment\":{\"AUTOML_TRANSFORM_MODE\":\"feature-transform\",\"SAGEMAKER_DEFAULT_INVOCATIONS_ACCEPT\":\"application/x-recordio-protobuf\",\"SAGEMAKER_PROGRAM\":\"sagemaker_serve\",\"SAGEMAKER_SUBMIT_DIRECTORY\":\"/opt/ml/model/code\"}},{\"Image\":\"746614075791.dkr.ecr.us-west-1.amazonaws.com/sagemaker-xgboost:1.0-1-cpu-py3\",\"ModelDataUrl\":\"s3://bp-workspace-us-west-1-803235869972/automl-blueprint/candidates/automl-bp-2021-04-05-20-25-19/tuning/automl-bp--dpp0-xgb/tuning-job-1-12451a8143294342a3-001-f7ad9b54/output/model.tar.gz\",\"Environment\":{\"MAX_CONTENT_LENGTH\":\"20971520\",\"SAGEMAKER_DEFAULT_INVOCATIONS_ACCEPT\":\"text/csv\",\"SAGEMAKER_INFERENCE_OUTPUT\":\"predicted_label\",\"SAGEMAKER_INFERENCE_SUPPORTED\":\"predicted_label,probability,probabilities\"}},{\"Image\":\"746614075791.dkr.ecr.us-west-1.amazonaws.com/sagemaker-sklearn-automl:0.2-1-cpu-py3\",\"ModelDataUrl\":\"s3://bp-workspace-us-west-1-803235869972/automl-blueprint/candidates/automl-bp-2021-04-05-20-25-19/data-processor-models/automl-bp--dpp0-1-6abf4b4509e64f3f937427db6fd661b44fe6e6e408434/output/model.tar.gz\",\"Environment\":{\"AUTOML_TRANSFORM_MODE\":\"inverse-label-transform\",\"SAGEMAKER_DEFAULT_INVOCATIONS_ACCEPT\":\"text/csv\",\"SAGEMAKER_INFERENCE_INPUT\":\"predicted_label\",\"SAGEMAKER_INFERENCE_OUTPUT\":\"predicted_label\",\"SAGEMAKER_INFERENCE_SUPPORTED\":\"predicted_label,probability,labels,probabilities\",\"SAGEMAKER_PROGRAM\":\"sagemaker_serve\",\"SAGEMAKER_SUBMIT_DIRECTORY\":\"/opt/ml/model/code\"}}]},\"status\":\"Completed\",\"qualified\":true}},\"error-analysis-config\":{\"job_base_name\":\"bp-error-analysis\",\"output_prefix\":\"eval/error\",\"transform-config\":{\"instance_type\":\"ml.m5.xlarge\",\"instance_count\":1,\"strategy\":\"SingleRecord\",\"assemble_with\":\"Line\",\"input_filter\":\"$[:-2]\",\"join_source\":\"Input\",\"output_filter\":\"$[-2,-1]\",\"split_type\":\"Line\"},\"job_name\":\"bp-error-analysis-2021-04-05-20-25-19\"},\"bias-analysis-config\":{\"job_base_name\":\"bp-clarify-bias\",\"output_prefix\":\"eval/bias\",\"instance_type\":\"ml.c5.xlarge\",\"instance_count\":1,\"prediction-config\":{\"label\":null,\"probability\":0,\"probability_threshold\":0.8,\"label_headers\":null},\"bias-config\":{\"label_values_or_threshold\":[1],\"facet_name\":\"age\",\"facet_values_or_threshold\":[30],\"group_name\":\"job\"},\"job_name\":\"bp-clarify-bias-2021-04-05-20-25-19\"},\"xai-config\":{\"job_base_name\":\"bp-clarify-shap\",\"output_prefix\":\"eval/xai\",\"instance_type\":\"ml.c5.xlarge\",\"instance_count\":1,\"shap-config\":{\"num_samples\":1,\"agg_method\":\"mean_abs\"},\"job_name\":\"bp-clarify-shap-2021-04-05-20-25-19\",\"job-results\":{\"status\":\"Completed\"}},\"deployment-config\":{}},\"SdkHttpMetadata\":{\"AllHttpHeaders\":{\"X-Amz-Executed-Version\":[\"$LATEST\"],\"x-amzn-Remapped-Content-Length\":[\"0\"],\"Connection\":[\"keep-alive\"],\"x-amzn-RequestId\":[\"e950f6c9-b6bd-4918-84a0-d3899f1e23ea\"],\"Content-Length\":[\"5934\"],\"Date\":[\"Mon, 05 Apr 2021 21:38:54 GMT\"],\"X-Amzn-Trace-Id\":[\"root=1-606b82b6-29a6a8c87f8c10e224b00cf5;sampled=0\"],\"Content-Type\":[\"application/json\"]},\"HttpHeaders\":{\"Connection\":\"keep-alive\",\"Content-Length\":\"5934\",\"Content-Type\":\"application/json\",\"Date\":\"Mon, 05 Apr 2021 21:38:54 GMT\",\"X-Amz-Executed-Version\":\"$LATEST\",\"x-amzn-Remapped-Content-Length\":\"0\",\"x-amzn-RequestId\":\"e950f6c9-b6bd-4918-84a0-d3899f1e23ea\",\"X-Amzn-Trace-Id\":\"root=1-606b82b6-29a6a8c87f8c10e224b00cf5;sampled=0\"},\"HttpStatusCode\":200},\"SdkResponseMetadata\":{\"RequestId\":\"e950f6c9-b6bd-4918-84a0-d3899f1e23ea\"},\"StatusCode\":200}}]', 'outputDetails': {'included': True}, 'ResponseMetadata': {'RequestId': '81051968-09e9-41dc-b220-8cf02761efcd', 'HTTPStatusCode': 200, 'HTTPHeaders': {'x-amzn-requestid': '81051968-09e9-41dc-b220-8cf02761efcd', 'content-type': 'application/x-amz-json-1.0', 'content-length': '43303'}, 'RetryAttempts': 0}}\n"
     ]
    }
   ],
   "source": [
    "\n",
    "execresults = sfn.describe_execution(executionArn=execution_arn)\n",
    "print(execresults)"
   ]
  },
  {
   "cell_type": "code",
   "execution_count": 26,
   "metadata": {},
   "outputs": [
    {
     "ename": "TypeError",
     "evalue": "create_model() missing 2 required positional arguments: 'role' and 'container_defs'",
     "output_type": "error",
     "traceback": [
      "\u001b[0;31m---------------------------------------------------------------------------\u001b[0m",
      "\u001b[0;31mTypeError\u001b[0m                                 Traceback (most recent call last)",
      "\u001b[0;32m<ipython-input-26-e77aa06b53f6>\u001b[0m in \u001b[0;36m<module>\u001b[0;34m\u001b[0m\n\u001b[1;32m      4\u001b[0m \u001b[0msession\u001b[0m \u001b[0;34m=\u001b[0m \u001b[0msession\u001b[0m \u001b[0;34m=\u001b[0m \u001b[0msagemaker\u001b[0m\u001b[0;34m.\u001b[0m\u001b[0msession\u001b[0m\u001b[0;34m.\u001b[0m\u001b[0mSession\u001b[0m\u001b[0;34m(\u001b[0m\u001b[0;34m)\u001b[0m\u001b[0;34m\u001b[0m\u001b[0;34m\u001b[0m\u001b[0m\n\u001b[1;32m      5\u001b[0m \u001b[0;34m\u001b[0m\u001b[0m\n\u001b[0;32m----> 6\u001b[0;31m \u001b[0mmodel\u001b[0m \u001b[0;34m=\u001b[0m \u001b[0msession\u001b[0m\u001b[0;34m.\u001b[0m\u001b[0mcreate_model\u001b[0m\u001b[0;34m(\u001b[0m\u001b[0mname\u001b[0m\u001b[0;34m=\u001b[0m\u001b[0;34m\"automl-bp-model-2021-04-05-20-25-19\"\u001b[0m\u001b[0;34m)\u001b[0m\u001b[0;34m\u001b[0m\u001b[0;34m\u001b[0m\u001b[0m\n\u001b[0m",
      "\u001b[0;31mTypeError\u001b[0m: create_model() missing 2 required positional arguments: 'role' and 'container_defs'"
     ]
    }
   ],
   "source": [
    "from sagemaker.model import Model\n",
    "import sagemaker\n",
    "from sagemaker import get_execution_role\n",
    "\n",
    "session = session = sagemaker.session.Session()\n",
    "role = get_execution_role()\n",
    "\n",
    "model = session.create_model(name=\"automl-bp-model-2021-04-05-20-25-19\",\n",
    "                            role= role,\n",
    "                            )"
   ]
  },
  {
   "cell_type": "code",
   "execution_count": 34,
   "metadata": {},
   "outputs": [
    {
     "name": "stdout",
     "output_type": "stream",
     "text": [
      "{'EndpointArn': 'arn:aws:sagemaker:us-west-1:803235869972:endpoint/automl-bp-ep-2021-04-06-03-07-28', 'ResponseMetadata': {'RequestId': '86bb2153-8917-4a6e-b1e4-dbd5257f31e9', 'HTTPStatusCode': 200, 'HTTPHeaders': {'x-amzn-requestid': '86bb2153-8917-4a6e-b1e4-dbd5257f31e9', 'content-type': 'application/x-amz-json-1.1', 'content-length': '100', 'date': 'Tue, 06 Apr 2021 03:07:29 GMT'}, 'RetryAttempts': 0}}\n"
     ]
    }
   ],
   "source": [
    "from time import strftime, gmtime\n",
    "\n",
    "now = strftime(\"%Y-%m-%d-%H-%M-%S\", gmtime())\n",
    "epc_name = f\"automl-bp-epc-{now}\"\n",
    "ep_name = f\"automl-bp-ep-{now}\"\n",
    "model_name = \"automl-bp-model-2021-04-05-20-25-19\"\n",
    "\n",
    "\n",
    "\n",
    "sm.create_endpoint_config(\n",
    "    EndpointConfigName = epc_name,\n",
    "    ProductionVariants=[{\n",
    "        \"VariantName\":\"v1\",\n",
    "        \"ModelName\":model_name,\n",
    "        \"InitialInstanceCount\": 1,\n",
    "        \"InstanceType\":\"ml.m5.large\"\n",
    "    }])\n",
    "\n",
    "response = sm.create_endpoint(\n",
    "    EndpointName= ep_name,\n",
    "    EndpointConfigName=epc_name\n",
    ")\n",
    "\n",
    "print(response)"
   ]
  },
  {
   "cell_type": "code",
   "execution_count": 35,
   "metadata": {},
   "outputs": [
    {
     "data": {
      "text/plain": [
       "{'ResponseMetadata': {'RequestId': '74781993-181c-4ef7-95d2-c401085c0114',\n",
       "  'HTTPStatusCode': 200,\n",
       "  'HTTPHeaders': {'x-amzn-requestid': '74781993-181c-4ef7-95d2-c401085c0114',\n",
       "   'content-type': 'application/x-amz-json-1.1',\n",
       "   'content-length': '0',\n",
       "   'date': 'Tue, 06 Apr 2021 03:31:19 GMT'},\n",
       "  'RetryAttempts': 0}}"
      ]
     },
     "execution_count": 35,
     "metadata": {},
     "output_type": "execute_result"
    }
   ],
   "source": [
    "sm.delete_endpoint(EndpointName=ep_name)"
   ]
  },
  {
   "cell_type": "code",
   "execution_count": null,
   "metadata": {},
   "outputs": [],
   "source": []
  }
 ],
 "metadata": {
  "instance_type": "ml.t3.medium",
  "kernelspec": {
   "display_name": "Python 3 (Data Science)",
   "language": "python",
   "name": "python3__SAGEMAKER_INTERNAL__arn:aws:sagemaker:us-west-1:742091327244:image/datascience-1.0"
  },
  "language_info": {
   "codemirror_mode": {
    "name": "ipython",
    "version": 3
   },
   "file_extension": ".py",
   "mimetype": "text/x-python",
   "name": "python",
   "nbconvert_exporter": "python",
   "pygments_lexer": "ipython3",
   "version": "3.7.10"
  }
 },
 "nbformat": 4,
 "nbformat_minor": 4
}
